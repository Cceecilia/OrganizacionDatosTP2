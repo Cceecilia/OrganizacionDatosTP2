{
 "cells": [
  {
   "cell_type": "code",
   "execution_count": 1,
   "metadata": {},
   "outputs": [],
   "source": [
    "import pandas as pd\n",
    "import numpy as np"
   ]
  },
  {
   "cell_type": "code",
   "execution_count": 2,
   "metadata": {},
   "outputs": [],
   "source": [
    "df1 = pd.read_csv('entrenar_st_1820.csv')\n",
    "df2 = pd.read_csv('entrenar_st_1921.csv')\n",
    "df3 = pd.read_csv('entrenar_st_2022.csv')\n",
    "df4 = pd.read_csv('entrenar_st_2123.csv')\n",
    "archivos = [df1,df2,df3,df4]"
   ]
  },
  {
   "cell_type": "code",
   "execution_count": 2,
   "metadata": {},
   "outputs": [],
   "source": [
    "from sklearn.ensemble import RandomForestRegressor\n",
    "from sklearn.metrics import mean_squared_error\n",
    "from sklearn.model_selection import train_test_split"
   ]
  },
  {
   "cell_type": "code",
   "execution_count": 5,
   "metadata": {},
   "outputs": [],
   "source": [
    "def buscar_parametros_randomForest_st(rf_reg):\n",
    "    suma_errores = 0\n",
    "    for df in archivos:\n",
    "        X,y = df.drop(['ref_hash','segundos'],axis=1),df['segundos']\n",
    "        X_train, X_test, y_train, y_test = \\\n",
    "        train_test_split(X, y, test_size=0.2, random_state=150)\n",
    "\n",
    "        rf_reg.fit(X_train,y_train)\n",
    "        preds = rf_reg.predict(X_test)\n",
    "        rmse = np.sqrt(mean_squared_error(y_test, preds))\n",
    "        suma_errores += rmse\n",
    "       \n",
    "    error_promedio = suma_errores / len(archivos)\n",
    "    print('RMSE promedio: %f' % (error_promedio))\n",
    "    return (error_promedio)"
   ]
  },
  {
   "cell_type": "code",
   "execution_count": null,
   "metadata": {},
   "outputs": [],
   "source": [
    "rf_reg = RandomForestRegressor(n_estimators=10, max_depth=None,\n",
    "                               min_samples_split=2, min_samples_leaf=1, \n",
    "                               min_weight_fraction_leaf=0.0, max_features=’auto’,\n",
    "                               max_leaf_nodes=None, min_impurity_decrease=0.0,\n",
    "                               min_impurity_split=None, bootstrap=True, \n",
    "                               oob_score=False, n_jobs=None,\n",
    "                               random_state=None, verbose=0,)"
   ]
  },
  {
   "cell_type": "code",
   "execution_count": 8,
   "metadata": {},
   "outputs": [
    {
     "name": "stdout",
     "output_type": "stream",
     "text": [
      "Estimators: 5.000000\n",
      "RMSE promedio: 93005.497442\n",
      "Estimators: 10.000000\n",
      "RMSE promedio: 89911.957451\n",
      "Estimators: 15.000000\n",
      "RMSE promedio: 88792.723922\n",
      "Error minimo 88792.723922 con valor 15.000000\n"
     ]
    }
   ],
   "source": [
    "errores = []\n",
    "for v in [5,10,15]:\n",
    "    rf_reg = RandomForestRegressor(n_estimators=v)\n",
    "    print('Estimators: %f'% (v))\n",
    "    error = buscar_parametros_randomForest_st(rf_reg)\n",
    "    errores.append([error,v])\n",
    "error,v = min(errores,key=lambda x: x[0])\n",
    "print('Error minimo %f con valor %f' %(error,v))"
   ]
  },
  {
   "cell_type": "code",
   "execution_count": 10,
   "metadata": {},
   "outputs": [
    {
     "name": "stdout",
     "output_type": "stream",
     "text": [
      "Max_features: 2.000000\n",
      "RMSE promedio: 90065.903830\n",
      "Max_features: 5.000000\n",
      "RMSE promedio: 89896.480740\n",
      "Max_features: 8.000000\n",
      "RMSE promedio: 89809.386654\n",
      "Error minimo 89809.386654 con valor 8.000000\n"
     ]
    }
   ],
   "source": [
    "errores = []\n",
    "for v in [2,5,8]:\n",
    "    rf_reg = RandomForestRegressor(n_estimators=10,max_features=v)\n",
    "    print('Max_features: %f'% (v))\n",
    "    error = buscar_parametros_randomForest_st(rf_reg)\n",
    "    errores.append([error,v])\n",
    "error,v = min(errores,key=lambda x: x[0])\n",
    "print('Error minimo %f con valor %f' %(error,v))"
   ]
  },
  {
   "cell_type": "code",
   "execution_count": 11,
   "metadata": {},
   "outputs": [
    {
     "name": "stdout",
     "output_type": "stream",
     "text": [
      "Max_features: 10.000000\n",
      "RMSE promedio: 89701.637612\n",
      "Max_features: 12.000000\n",
      "RMSE promedio: 89677.187700\n",
      "Error minimo 89677.187700 con valor 12.000000\n"
     ]
    }
   ],
   "source": [
    "errores = []\n",
    "for v in [10,12]:\n",
    "    rf_reg = RandomForestRegressor(n_estimators=10,max_features=v)\n",
    "    print('Max_features: %f'% (v))\n",
    "    error = buscar_parametros_randomForest_st(rf_reg)\n",
    "    errores.append([error,v])\n",
    "error,v = min(errores,key=lambda x: x[0])\n",
    "print('Error minimo %f con valor %f' %(error,v))"
   ]
  },
  {
   "cell_type": "code",
   "execution_count": 14,
   "metadata": {},
   "outputs": [
    {
     "name": "stdout",
     "output_type": "stream",
     "text": [
      "Max_Depth: 2.000000\n",
      "RMSE promedio: 92402.399525\n",
      "Max_Depth: 5.000000\n",
      "RMSE promedio: 87160.627979\n",
      "Max_Depth: 8.000000\n",
      "RMSE promedio: 85001.995226\n",
      "Max_Depth: 10.000000\n",
      "RMSE promedio: 84391.077409\n",
      "Max_Depth: 15.000000\n",
      "RMSE promedio: 84115.462338\n",
      "Max_Depth: 20.000000\n",
      "RMSE promedio: 84629.773584\n",
      "Error minimo 84115.462338 con valor 15.000000\n"
     ]
    }
   ],
   "source": [
    "errores = []\n",
    "for v in [2,5,8,10,15,20]:\n",
    "    rf_reg = RandomForestRegressor(n_estimators=10, max_depth=v, max_features=5)\n",
    "    print('Max_Depth: %f'% (v))\n",
    "    error = buscar_parametros_randomForest_st(rf_reg)\n",
    "    errores.append([error,v])\n",
    "error,v = min(errores,key=lambda x: x[0])\n",
    "print('Error minimo %f con valor %f' %(error,v))"
   ]
  },
  {
   "cell_type": "code",
   "execution_count": 15,
   "metadata": {},
   "outputs": [
    {
     "name": "stdout",
     "output_type": "stream",
     "text": [
      "Max_Depth: 13.000000\n",
      "RMSE promedio: 84099.332107\n",
      "Max_Depth: 14.000000\n",
      "RMSE promedio: 84052.409346\n",
      "Max_Depth: 15.000000\n",
      "RMSE promedio: 84145.382908\n",
      "Max_Depth: 16.000000\n",
      "RMSE promedio: 84144.829752\n",
      "Max_Depth: 17.000000\n",
      "RMSE promedio: 84281.649555\n",
      "Error minimo 84052.409346 con valor 14.000000\n"
     ]
    }
   ],
   "source": [
    "errores = []\n",
    "for v in [13,14,15,16,17]:\n",
    "    rf_reg = RandomForestRegressor(n_estimators=10, max_depth=v, max_features=5)\n",
    "    print('Max_Depth: %f'% (v))\n",
    "    error = buscar_parametros_randomForest_st(rf_reg)\n",
    "    errores.append([error,v])\n",
    "error,v = min(errores,key=lambda x: x[0])\n",
    "print('Error minimo %f con valor %f' %(error,v))"
   ]
  },
  {
   "cell_type": "code",
   "execution_count": 17,
   "metadata": {},
   "outputs": [
    {
     "name": "stdout",
     "output_type": "stream",
     "text": [
      "Min_samples_split: 2.000000\n",
      "RMSE promedio: 84089.112819\n",
      "Min_samples_split: 3.000000\n",
      "RMSE promedio: 84111.553728\n",
      "Min_samples_split: 5.000000\n",
      "RMSE promedio: 84093.771948\n",
      "Min_samples_split: 8.000000\n",
      "RMSE promedio: 84085.649432\n",
      "Error minimo 84085.649432 con valor 8.000000\n"
     ]
    }
   ],
   "source": [
    "errores = []\n",
    "for v in [2,3,5,8]:\n",
    "    rf_reg = RandomForestRegressor(n_estimators=10, max_depth=14, max_features=5,\n",
    "                                   min_samples_split=v)\n",
    "    print('Min_samples_split: %f'% (v))\n",
    "    error = buscar_parametros_randomForest_st(rf_reg)\n",
    "    errores.append([error,v])\n",
    "error,v = min(errores,key=lambda x: x[0])\n",
    "print('Error minimo %f con valor %f' %(error,v))"
   ]
  },
  {
   "cell_type": "code",
   "execution_count": 18,
   "metadata": {},
   "outputs": [
    {
     "name": "stdout",
     "output_type": "stream",
     "text": [
      "Min_samples_split: 7.000000\n",
      "RMSE promedio: 84047.608644\n",
      "Min_samples_split: 8.000000\n",
      "RMSE promedio: 84119.542576\n",
      "Min_samples_split: 9.000000\n",
      "RMSE promedio: 84090.497023\n",
      "Min_samples_split: 10.000000\n",
      "RMSE promedio: 84073.642295\n",
      "Error minimo 84047.608644 con valor 7.000000\n"
     ]
    }
   ],
   "source": [
    "errores = []\n",
    "for v in [7,8,9,10]:\n",
    "    rf_reg = RandomForestRegressor(n_estimators=10, max_depth=14, max_features=5,\n",
    "                                   min_samples_split=v)\n",
    "    print('Min_samples_split: %f'% (v))\n",
    "    error = buscar_parametros_randomForest_st(rf_reg)\n",
    "    errores.append([error,v])\n",
    "error,v = min(errores,key=lambda x: x[0])\n",
    "print('Error minimo %f con valor %f' %(error,v))"
   ]
  },
  {
   "cell_type": "code",
   "execution_count": 19,
   "metadata": {},
   "outputs": [
    {
     "name": "stdout",
     "output_type": "stream",
     "text": [
      "Min_samples_split: 7.000000\n",
      "RMSE promedio: 83996.250378\n",
      "Min_samples_split: 8.000000\n",
      "RMSE promedio: 84059.952626\n",
      "Min_samples_split: 9.000000\n",
      "RMSE promedio: 84105.369533\n",
      "Min_samples_split: 10.000000\n",
      "RMSE promedio: 84064.248994\n",
      "Error minimo 83996.250378 con valor 7.000000\n"
     ]
    }
   ],
   "source": [
    "errores = []\n",
    "for v in [7,8,9,10]:\n",
    "    rf_reg = RandomForestRegressor(n_estimators=10, max_depth=14, max_features=5,\n",
    "                                   min_samples_split=v)\n",
    "    print('Min_samples_split: %f'% (v))\n",
    "    error = buscar_parametros_randomForest_st(rf_reg)\n",
    "    errores.append([error,v])\n",
    "error,v = min(errores,key=lambda x: x[0])\n",
    "print('Error minimo %f con valor %f' %(error,v))"
   ]
  },
  {
   "cell_type": "code",
   "execution_count": 20,
   "metadata": {},
   "outputs": [
    {
     "name": "stdout",
     "output_type": "stream",
     "text": [
      "Min_samples_leaf: 1.000000\n",
      "RMSE promedio: 84034.872992\n",
      "Min_samples_leaf: 2.000000\n",
      "RMSE promedio: 84058.505321\n",
      "Min_samples_leaf: 3.000000\n",
      "RMSE promedio: 84094.623340\n",
      "Min_samples_leaf: 4.000000\n",
      "RMSE promedio: 84076.894795\n",
      "Min_samples_leaf: 5.000000\n",
      "RMSE promedio: 84088.180098\n",
      "Error minimo 84034.872992 con valor 1.000000\n"
     ]
    }
   ],
   "source": [
    "errores = []\n",
    "for v in [1,2,3,4,5]:\n",
    "    rf_reg = RandomForestRegressor(n_estimators=10, max_depth=14, max_features=5,\n",
    "                                   min_samples_split=7, min_samples_leaf=v)\n",
    "    print('Min_samples_leaf: %f'% (v))\n",
    "    error = buscar_parametros_randomForest_st(rf_reg)\n",
    "    errores.append([error,v])\n",
    "error,v = min(errores,key=lambda x: x[0])\n",
    "print('Error minimo %f con valor %f' %(error,v))"
   ]
  },
  {
   "cell_type": "code",
   "execution_count": 24,
   "metadata": {},
   "outputs": [
    {
     "name": "stdout",
     "output_type": "stream",
     "text": [
      "min_weight_fraction_leaf: 0.000000\n",
      "RMSE promedio: 84056.999483\n",
      "min_weight_fraction_leaf: 0.100000\n",
      "RMSE promedio: 90366.692670\n",
      "min_weight_fraction_leaf: 0.200000\n",
      "RMSE promedio: 94817.944620\n",
      "min_weight_fraction_leaf: 0.300000\n",
      "RMSE promedio: 96180.994914\n",
      "Error minimo 84056.999483 con valor 0.000000\n"
     ]
    }
   ],
   "source": [
    "errores = []\n",
    "for v in [0.0,0.1,0.2,0.3]:\n",
    "    rf_reg = RandomForestRegressor(n_estimators=10, max_depth=14, max_features=5,\n",
    "                                   min_samples_split=7,\n",
    "                                   min_weight_fraction_leaf=v)\n",
    "    print('min_weight_fraction_leaf: %f'% (v))\n",
    "    error = buscar_parametros_randomForest_st(rf_reg)\n",
    "    errores.append([error,v])\n",
    "error,v = min(errores,key=lambda x: x[0])\n",
    "print('Error minimo %f con valor %f' %(error,v))"
   ]
  },
  {
   "cell_type": "code",
   "execution_count": 30,
   "metadata": {},
   "outputs": [
    {
     "name": "stdout",
     "output_type": "stream",
     "text": [
      "min_impurity_decrease: 0.000000\n",
      "RMSE promedio: 84037.579313\n",
      "min_impurity_decrease: 0.100000\n",
      "RMSE promedio: 84066.116225\n",
      "min_impurity_decrease: 0.200000\n",
      "RMSE promedio: 84067.271097\n",
      "min_impurity_decrease: 0.300000\n",
      "RMSE promedio: 84061.930201\n",
      "Error minimo 84037.579313 con valor 0.000000\n"
     ]
    }
   ],
   "source": [
    "errores = []\n",
    "for v in [0.0,0.1,0.2,0.3]:\n",
    "    rf_reg = RandomForestRegressor(n_estimators=10, max_depth=14, max_features=5,\n",
    "                                   min_samples_split=7, min_impurity_decrease=v)\n",
    "    print('min_impurity_decrease: %f'% (v))\n",
    "    error = buscar_parametros_randomForest_st(rf_reg)\n",
    "    errores.append([error,v])\n",
    "error,v = min(errores,key=lambda x: x[0])\n",
    "print('Error minimo %f con valor %f' %(error,v))"
   ]
  },
  {
   "cell_type": "code",
   "execution_count": 36,
   "metadata": {},
   "outputs": [
    {
     "name": "stdout",
     "output_type": "stream",
     "text": [
      "bootstrap: True\n",
      "RMSE promedio: 84131.333699\n",
      "Error minimo 84131.333699 con valor True\n"
     ]
    }
   ],
   "source": [
    "errores = []\n",
    "for v in ['True']:\n",
    "    rf_reg = RandomForestRegressor(n_estimators=10, max_depth=14, max_features=5,\n",
    "                                   min_samples_split=7,bootstrap=True)\n",
    "    print('bootstrap: %s'% (v))\n",
    "    error = buscar_parametros_randomForest_st(rf_reg)\n",
    "    errores.append([error,v])\n",
    "error,v = min(errores,key=lambda x: x[0])\n",
    "print('Error minimo %f con valor %s' %(error,v))"
   ]
  },
  {
   "cell_type": "code",
   "execution_count": 38,
   "metadata": {},
   "outputs": [
    {
     "name": "stdout",
     "output_type": "stream",
     "text": [
      " n_jobs: 10.000000\n",
      "RMSE promedio: 84085.229147\n",
      " n_jobs: 20.000000\n",
      "RMSE promedio: 84073.352143\n",
      " n_jobs: 30.000000\n",
      "RMSE promedio: 84089.528623\n",
      "Error minimo 84073.352143 con valor 20.000000\n"
     ]
    }
   ],
   "source": [
    "errores = []\n",
    "for v in [10,20,30]:\n",
    "    rf_reg = RandomForestRegressor(n_estimators=10, max_depth=14, max_features=5,\n",
    "                                   min_samples_split=7, n_jobs=v)\n",
    "    print(' n_jobs: %f'% (v))\n",
    "    error = buscar_parametros_randomForest_st(rf_reg)\n",
    "    errores.append([error,v])\n",
    "error,v = min(errores,key=lambda x: x[0])\n",
    "print('Error minimo %f con valor %f' %(error,v))"
   ]
  },
  {
   "cell_type": "code",
   "execution_count": 39,
   "metadata": {},
   "outputs": [
    {
     "name": "stdout",
     "output_type": "stream",
     "text": [
      "random_state: 1.000000\n",
      "RMSE promedio: 84046.238605\n",
      "random_state: 3.000000\n",
      "RMSE promedio: 84038.806924\n",
      "random_state: 5.000000\n",
      "RMSE promedio: 84120.455940\n",
      "random_state: 7.000000\n",
      "RMSE promedio: 84086.676111\n",
      "Error minimo 84038.806924 con valor 3.000000\n"
     ]
    }
   ],
   "source": [
    "errores = []\n",
    "for v in [1,3,5,7]:\n",
    "    rf_reg = RandomForestRegressor(n_estimators=10, max_depth=14, max_features=5,\n",
    "                                   min_samples_split=7, random_state=v)\n",
    "    print('random_state: %f'% (v))\n",
    "    error = buscar_parametros_randomForest_st(rf_reg)\n",
    "    errores.append([error,v])\n",
    "error,v = min(errores,key=lambda x: x[0])\n",
    "print('Error minimo %f con valor %f' %(error,v))"
   ]
  },
  {
   "cell_type": "code",
   "execution_count": 40,
   "metadata": {},
   "outputs": [
    {
     "name": "stdout",
     "output_type": "stream",
     "text": [
      "n_estimators: 5.000000\n",
      "RMSE promedio: 84417.900633\n",
      "n_estimators: 10.000000\n",
      "RMSE promedio: 84071.605655\n",
      "n_estimators: 20.000000\n",
      "RMSE promedio: 83928.544618\n",
      "n_estimators: 35.000000\n",
      "RMSE promedio: 83825.818945\n",
      "Error minimo 83825.818945 con valor 35.000000\n"
     ]
    }
   ],
   "source": [
    "errores = []\n",
    "for v in [5,10,20,35]:\n",
    "    rf_reg = RandomForestRegressor(n_estimators=v, max_depth=14, max_features=5,\n",
    "                                   min_samples_split=7)\n",
    "    print('n_estimators: %f'% (v))\n",
    "    error = buscar_parametros_randomForest_st(rf_reg)\n",
    "    errores.append([error,v])\n",
    "error,v = min(errores,key=lambda x: x[0])\n",
    "print('Error minimo %f con valor %f' %(error,v))"
   ]
  },
  {
   "cell_type": "code",
   "execution_count": 44,
   "metadata": {},
   "outputs": [
    {
     "name": "stdout",
     "output_type": "stream",
     "text": [
      "max_features: 8.000000\n",
      "RMSE promedio: 83930.066890\n",
      "max_features: 9.000000\n",
      "RMSE promedio: 83885.774918\n",
      "max_features: 10.000000\n",
      "RMSE promedio: 83925.651555\n",
      "max_features: 11.000000\n",
      "RMSE promedio: 83899.752043\n",
      "max_features: 12.000000\n",
      "RMSE promedio: 83895.496387\n",
      "Error minimo 83885.774918 con valor 9.000000\n"
     ]
    }
   ],
   "source": [
    "errores = []\n",
    "for v in [8,9,10,11,12]:\n",
    "    rf_reg = RandomForestRegressor(n_estimators=10, max_depth=14, max_features=v,\n",
    "                                   min_samples_split=7)\n",
    "    print('max_features: %f'% (v))\n",
    "    error = buscar_parametros_randomForest_st(rf_reg)\n",
    "    errores.append([error,v])\n",
    "error,v = min(errores,key=lambda x: x[0])\n",
    "print('Error minimo %f con valor %f' %(error,v))"
   ]
  },
  {
   "cell_type": "markdown",
   "metadata": {},
   "source": [
    "### Pruebo si cambiando algunos features mi error disminuye"
   ]
  },
  {
   "cell_type": "code",
   "execution_count": 3,
   "metadata": {},
   "outputs": [],
   "source": [
    "df1 = pd.read_csv('entrenar2_st_1820.csv')\n",
    "df2 = pd.read_csv('entrenar2_st_1921.csv')\n",
    "df3 = pd.read_csv('entrenar2_st_2022.csv')\n",
    "df4 = pd.read_csv('entrenar2_st_2123.csv')\n",
    "archivos = [df1,df2,df3,df4]"
   ]
  },
  {
   "cell_type": "code",
   "execution_count": 4,
   "metadata": {},
   "outputs": [
    {
     "name": "stdout",
     "output_type": "stream",
     "text": [
      "RMSE: 85682.504856\n",
      "RMSE: 88305.953320\n",
      "RMSE: 86711.296490\n",
      "RMSE: 86303.779754\n",
      "RMSE promedio: 86750.883605\n"
     ]
    }
   ],
   "source": [
    "rf_reg = RandomForestRegressor(n_estimators=40, max_depth=14, max_features=9,\n",
    "                                   min_samples_split=7)\n",
    "suma_errores = 0\n",
    "for df in archivos:\n",
    "    X,y = df.drop(['ref_hash','segundos'],axis=1),df['segundos']\n",
    "    X_train, X_test, y_train, y_test = \\\n",
    "    train_test_split(X, y, test_size=0.2, random_state=150)\n",
    "\n",
    "    rf_reg.fit(X_train,y_train)\n",
    "    preds = rf_reg.predict(X_test)\n",
    "    rmse = np.sqrt(mean_squared_error(y_test, preds))\n",
    "    print('RMSE: %f' % (rmse))\n",
    "    suma_errores += rmse\n",
    "       \n",
    "error_promedio = suma_errores / len(archivos)\n",
    "print('RMSE promedio: %f' % (error_promedio))"
   ]
  },
  {
   "cell_type": "markdown",
   "metadata": {},
   "source": [
    "##### El error anterior era de 83.800 y el actual de 86.700 por lo tanto empeora."
   ]
  },
  {
   "cell_type": "code",
   "execution_count": null,
   "metadata": {},
   "outputs": [],
   "source": []
  }
 ],
 "metadata": {
  "kernelspec": {
   "display_name": "Python 2",
   "language": "python",
   "name": "python2"
  },
  "language_info": {
   "codemirror_mode": {
    "name": "ipython",
    "version": 2
   },
   "file_extension": ".py",
   "mimetype": "text/x-python",
   "name": "python",
   "nbconvert_exporter": "python",
   "pygments_lexer": "ipython2",
   "version": "2.7.15+"
  }
 },
 "nbformat": 4,
 "nbformat_minor": 2
}
