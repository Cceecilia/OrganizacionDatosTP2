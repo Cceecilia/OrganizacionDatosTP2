{
 "cells": [
  {
   "cell_type": "code",
   "execution_count": 1,
   "metadata": {},
   "outputs": [],
   "source": [
    "import pandas as pd\n",
    "import numpy as np\n",
    "from sklearn.metrics import mean_squared_error\n",
    "from sklearn.model_selection import train_test_split\n",
    "from sklearn.ensemble import GradientBoostingRegressor"
   ]
  },
  {
   "cell_type": "code",
   "execution_count": 2,
   "metadata": {},
   "outputs": [],
   "source": [
    "df1 = pd.read_csv('entrenar2_st_1820.csv')\n",
    "df2 = pd.read_csv('entrenar2_st_1921.csv')\n",
    "df3 = pd.read_csv('entrenar2_st_2022.csv')\n",
    "df4 = pd.read_csv('entrenar2_st_2123.csv')\n",
    "archivos_st = [df1,df2,df3,df4]"
   ]
  },
  {
   "cell_type": "code",
   "execution_count": 3,
   "metadata": {},
   "outputs": [],
   "source": [
    "def buscar_parametros_grd_st(grd):\n",
    "    suma_errores = 0\n",
    "    for df in archivos_st:\n",
    "        X,y = df.drop(['ref_hash','segundos'],axis=1),df['segundos']\n",
    "        X_train, X_test, y_train, y_test = \\\n",
    "        train_test_split(X, y, test_size=0.2, random_state=150)\n",
    "\n",
    "        grd.fit(X_train,y_train)\n",
    "        preds = grd.predict(X_test)\n",
    "        rmse = np.sqrt(mean_squared_error(y_test, preds))\n",
    "        suma_errores += rmse\n",
    "       \n",
    "    error_promedio = suma_errores / len(archivos_st)\n",
    "    print('RMSE promedio: %f' % (error_promedio))\n",
    "    return (error_promedio)"
   ]
  },
  {
   "cell_type": "code",
   "execution_count": null,
   "metadata": {},
   "outputs": [],
   "source": [
    "GradientBoostingClassifier(loss=’deviance’, learning_rate=0.1,\n",
    "                           n_estimators=100, subsample=1.0, criterion=’friedman_mse’,\n",
    "                           min_samples_split=2, min_samples_leaf=1, \n",
    "                           min_weight_fraction_leaf=0.0, max_depth=3,\n",
    "                           min_impurity_decrease=0.0, min_impurity_split=None,\n",
    "                           init=None, random_state=None, max_features=None, \n",
    "                           verbose=0, max_leaf_nodes=None, warm_start=False,\n",
    "                           presort=’auto’, validation_fraction=0.1, \n",
    "                           n_iter_no_change=None, tol=0.0001)"
   ]
  },
  {
   "cell_type": "code",
   "execution_count": 6,
   "metadata": {},
   "outputs": [
    {
     "name": "stdout",
     "output_type": "stream",
     "text": [
      "n_estimators: 5.000000\n",
      "RMSE promedio: 92416.992743\n",
      "n_estimators: 10.000000\n",
      "RMSE promedio: 89674.462222\n",
      "n_estimators: 15.000000\n",
      "RMSE promedio: 88481.134365\n",
      "Error minimo 88481.134365 con valor 15.000000\n"
     ]
    }
   ],
   "source": [
    "errores = []\n",
    "for v in [5,10,15]:\n",
    "    grd = GradientBoostingRegressor(n_estimators=v)\n",
    "    print('n_estimators: %f'% (v))\n",
    "    error = buscar_parametros_grd_st(grd)\n",
    "    errores.append([error,v])\n",
    "error,v = min(errores,key=lambda x: x[0])\n",
    "print('Error minimo %f con valor %f' %(error,v))"
   ]
  },
  {
   "cell_type": "code",
   "execution_count": 7,
   "metadata": {},
   "outputs": [
    {
     "name": "stdout",
     "output_type": "stream",
     "text": [
      "max_features: 5.000000\n",
      "RMSE promedio: 89139.458420\n",
      "max_features: 10.000000\n",
      "RMSE promedio: 88530.730908\n",
      "max_features: 12.000000\n",
      "RMSE promedio: 88477.671536\n",
      "Error minimo 88477.671536 con valor 12.000000\n"
     ]
    }
   ],
   "source": [
    "errores = []\n",
    "for v in [5,10,12]:\n",
    "    grd = GradientBoostingRegressor(n_estimators=15,max_features=v)\n",
    "    print('max_features: %f'% (v))\n",
    "    error = buscar_parametros_grd_st(grd)\n",
    "    errores.append([error,v])\n",
    "error,v = min(errores,key=lambda x: x[0])\n",
    "print('Error minimo %f con valor %f' %(error,v))"
   ]
  },
  {
   "cell_type": "code",
   "execution_count": 8,
   "metadata": {},
   "outputs": [
    {
     "name": "stdout",
     "output_type": "stream",
     "text": [
      "max_depth: 2.000000\n",
      "RMSE promedio: 89354.150981\n",
      "max_depth: 5.000000\n",
      "RMSE promedio: 87676.750845\n",
      "max_depth: 8.000000\n",
      "RMSE promedio: 87326.362654\n",
      "max_depth: 10.000000\n"
     ]
    },
    {
     "ename": "KeyboardInterrupt",
     "evalue": "",
     "output_type": "error",
     "traceback": [
      "\u001b[0;31m---------------------------------------------------------------------------\u001b[0m",
      "\u001b[0;31mKeyboardInterrupt\u001b[0m                         Traceback (most recent call last)",
      "\u001b[0;32m<ipython-input-8-d65eb7caacdc>\u001b[0m in \u001b[0;36m<module>\u001b[0;34m()\u001b[0m\n\u001b[1;32m      3\u001b[0m     \u001b[0mgrd\u001b[0m \u001b[0;34m=\u001b[0m \u001b[0mGradientBoostingRegressor\u001b[0m\u001b[0;34m(\u001b[0m\u001b[0mn_estimators\u001b[0m\u001b[0;34m=\u001b[0m\u001b[0;36m15\u001b[0m\u001b[0;34m,\u001b[0m \u001b[0mmax_depth\u001b[0m\u001b[0;34m=\u001b[0m\u001b[0mv\u001b[0m\u001b[0;34m)\u001b[0m\u001b[0;34m\u001b[0m\u001b[0;34m\u001b[0m\u001b[0m\n\u001b[1;32m      4\u001b[0m     \u001b[0;32mprint\u001b[0m\u001b[0;34m(\u001b[0m\u001b[0;34m'max_depth: %f'\u001b[0m\u001b[0;34m%\u001b[0m \u001b[0;34m(\u001b[0m\u001b[0mv\u001b[0m\u001b[0;34m)\u001b[0m\u001b[0;34m)\u001b[0m\u001b[0;34m\u001b[0m\u001b[0;34m\u001b[0m\u001b[0m\n\u001b[0;32m----> 5\u001b[0;31m     \u001b[0merror\u001b[0m \u001b[0;34m=\u001b[0m \u001b[0mbuscar_parametros_grd_st\u001b[0m\u001b[0;34m(\u001b[0m\u001b[0mgrd\u001b[0m\u001b[0;34m)\u001b[0m\u001b[0;34m\u001b[0m\u001b[0;34m\u001b[0m\u001b[0m\n\u001b[0m\u001b[1;32m      6\u001b[0m     \u001b[0merrores\u001b[0m\u001b[0;34m.\u001b[0m\u001b[0mappend\u001b[0m\u001b[0;34m(\u001b[0m\u001b[0;34m[\u001b[0m\u001b[0merror\u001b[0m\u001b[0;34m,\u001b[0m\u001b[0mv\u001b[0m\u001b[0;34m]\u001b[0m\u001b[0;34m)\u001b[0m\u001b[0;34m\u001b[0m\u001b[0;34m\u001b[0m\u001b[0m\n\u001b[1;32m      7\u001b[0m \u001b[0merror\u001b[0m\u001b[0;34m,\u001b[0m\u001b[0mv\u001b[0m \u001b[0;34m=\u001b[0m \u001b[0mmin\u001b[0m\u001b[0;34m(\u001b[0m\u001b[0merrores\u001b[0m\u001b[0;34m,\u001b[0m\u001b[0mkey\u001b[0m\u001b[0;34m=\u001b[0m\u001b[0;32mlambda\u001b[0m \u001b[0mx\u001b[0m\u001b[0;34m:\u001b[0m \u001b[0mx\u001b[0m\u001b[0;34m[\u001b[0m\u001b[0;36m0\u001b[0m\u001b[0;34m]\u001b[0m\u001b[0;34m)\u001b[0m\u001b[0;34m\u001b[0m\u001b[0;34m\u001b[0m\u001b[0m\n",
      "\u001b[0;32m<ipython-input-3-b8448957664a>\u001b[0m in \u001b[0;36mbuscar_parametros_grd_st\u001b[0;34m(grd)\u001b[0m\n\u001b[1;32m      5\u001b[0m         \u001b[0mX_train\u001b[0m\u001b[0;34m,\u001b[0m \u001b[0mX_test\u001b[0m\u001b[0;34m,\u001b[0m \u001b[0my_train\u001b[0m\u001b[0;34m,\u001b[0m \u001b[0my_test\u001b[0m \u001b[0;34m=\u001b[0m         \u001b[0mtrain_test_split\u001b[0m\u001b[0;34m(\u001b[0m\u001b[0mX\u001b[0m\u001b[0;34m,\u001b[0m \u001b[0my\u001b[0m\u001b[0;34m,\u001b[0m \u001b[0mtest_size\u001b[0m\u001b[0;34m=\u001b[0m\u001b[0;36m0.2\u001b[0m\u001b[0;34m,\u001b[0m \u001b[0mrandom_state\u001b[0m\u001b[0;34m=\u001b[0m\u001b[0;36m150\u001b[0m\u001b[0;34m)\u001b[0m\u001b[0;34m\u001b[0m\u001b[0;34m\u001b[0m\u001b[0m\n\u001b[1;32m      6\u001b[0m \u001b[0;34m\u001b[0m\u001b[0m\n\u001b[0;32m----> 7\u001b[0;31m         \u001b[0mgrd\u001b[0m\u001b[0;34m.\u001b[0m\u001b[0mfit\u001b[0m\u001b[0;34m(\u001b[0m\u001b[0mX_train\u001b[0m\u001b[0;34m,\u001b[0m\u001b[0my_train\u001b[0m\u001b[0;34m)\u001b[0m\u001b[0;34m\u001b[0m\u001b[0;34m\u001b[0m\u001b[0m\n\u001b[0m\u001b[1;32m      8\u001b[0m         \u001b[0mpreds\u001b[0m \u001b[0;34m=\u001b[0m \u001b[0mgrd\u001b[0m\u001b[0;34m.\u001b[0m\u001b[0mpredict\u001b[0m\u001b[0;34m(\u001b[0m\u001b[0mX_test\u001b[0m\u001b[0;34m)\u001b[0m\u001b[0;34m\u001b[0m\u001b[0;34m\u001b[0m\u001b[0m\n\u001b[1;32m      9\u001b[0m         \u001b[0mrmse\u001b[0m \u001b[0;34m=\u001b[0m \u001b[0mnp\u001b[0m\u001b[0;34m.\u001b[0m\u001b[0msqrt\u001b[0m\u001b[0;34m(\u001b[0m\u001b[0mmean_squared_error\u001b[0m\u001b[0;34m(\u001b[0m\u001b[0my_test\u001b[0m\u001b[0;34m,\u001b[0m \u001b[0mpreds\u001b[0m\u001b[0;34m)\u001b[0m\u001b[0;34m)\u001b[0m\u001b[0;34m\u001b[0m\u001b[0;34m\u001b[0m\u001b[0m\n",
      "\u001b[0;32m/home/cecilia/.local/lib/python2.7/site-packages/sklearn/ensemble/gradient_boosting.pyc\u001b[0m in \u001b[0;36mfit\u001b[0;34m(self, X, y, sample_weight, monitor)\u001b[0m\n\u001b[1;32m   1463\u001b[0m         n_stages = self._fit_stages(X, y, y_pred, sample_weight, self._rng,\n\u001b[1;32m   1464\u001b[0m                                     \u001b[0mX_val\u001b[0m\u001b[0;34m,\u001b[0m \u001b[0my_val\u001b[0m\u001b[0;34m,\u001b[0m \u001b[0msample_weight_val\u001b[0m\u001b[0;34m,\u001b[0m\u001b[0;34m\u001b[0m\u001b[0;34m\u001b[0m\u001b[0m\n\u001b[0;32m-> 1465\u001b[0;31m                                     begin_at_stage, monitor, X_idx_sorted)\n\u001b[0m\u001b[1;32m   1466\u001b[0m \u001b[0;34m\u001b[0m\u001b[0m\n\u001b[1;32m   1467\u001b[0m         \u001b[0;31m# change shape of arrays after fit (early-stopping or additional ests)\u001b[0m\u001b[0;34m\u001b[0m\u001b[0;34m\u001b[0m\u001b[0;34m\u001b[0m\u001b[0m\n",
      "\u001b[0;32m/home/cecilia/.local/lib/python2.7/site-packages/sklearn/ensemble/gradient_boosting.pyc\u001b[0m in \u001b[0;36m_fit_stages\u001b[0;34m(self, X, y, y_pred, sample_weight, random_state, X_val, y_val, sample_weight_val, begin_at_stage, monitor, X_idx_sorted)\u001b[0m\n\u001b[1;32m   1527\u001b[0m             y_pred = self._fit_stage(i, X, y, y_pred, sample_weight,\n\u001b[1;32m   1528\u001b[0m                                      \u001b[0msample_mask\u001b[0m\u001b[0;34m,\u001b[0m \u001b[0mrandom_state\u001b[0m\u001b[0;34m,\u001b[0m \u001b[0mX_idx_sorted\u001b[0m\u001b[0;34m,\u001b[0m\u001b[0;34m\u001b[0m\u001b[0;34m\u001b[0m\u001b[0m\n\u001b[0;32m-> 1529\u001b[0;31m                                      X_csc, X_csr)\n\u001b[0m\u001b[1;32m   1530\u001b[0m \u001b[0;34m\u001b[0m\u001b[0m\n\u001b[1;32m   1531\u001b[0m             \u001b[0;31m# track deviance (= loss)\u001b[0m\u001b[0;34m\u001b[0m\u001b[0;34m\u001b[0m\u001b[0;34m\u001b[0m\u001b[0m\n",
      "\u001b[0;32m/home/cecilia/.local/lib/python2.7/site-packages/sklearn/ensemble/gradient_boosting.pyc\u001b[0m in \u001b[0;36m_fit_stage\u001b[0;34m(self, i, X, y, y_pred, sample_weight, sample_mask, random_state, X_idx_sorted, X_csc, X_csr)\u001b[0m\n\u001b[1;32m   1192\u001b[0m             \u001b[0mX\u001b[0m \u001b[0;34m=\u001b[0m \u001b[0mX_csr\u001b[0m \u001b[0;32mif\u001b[0m \u001b[0mX_csr\u001b[0m \u001b[0;32mis\u001b[0m \u001b[0;32mnot\u001b[0m \u001b[0mNone\u001b[0m \u001b[0;32melse\u001b[0m \u001b[0mX\u001b[0m\u001b[0;34m\u001b[0m\u001b[0;34m\u001b[0m\u001b[0m\n\u001b[1;32m   1193\u001b[0m             tree.fit(X, residual, sample_weight=sample_weight,\n\u001b[0;32m-> 1194\u001b[0;31m                      check_input=False, X_idx_sorted=X_idx_sorted)\n\u001b[0m\u001b[1;32m   1195\u001b[0m \u001b[0;34m\u001b[0m\u001b[0m\n\u001b[1;32m   1196\u001b[0m             \u001b[0;31m# update tree leaves\u001b[0m\u001b[0;34m\u001b[0m\u001b[0;34m\u001b[0m\u001b[0;34m\u001b[0m\u001b[0m\n",
      "\u001b[0;32m/home/cecilia/.local/lib/python2.7/site-packages/sklearn/tree/tree.pyc\u001b[0m in \u001b[0;36mfit\u001b[0;34m(self, X, y, sample_weight, check_input, X_idx_sorted)\u001b[0m\n\u001b[1;32m   1140\u001b[0m             \u001b[0msample_weight\u001b[0m\u001b[0;34m=\u001b[0m\u001b[0msample_weight\u001b[0m\u001b[0;34m,\u001b[0m\u001b[0;34m\u001b[0m\u001b[0;34m\u001b[0m\u001b[0m\n\u001b[1;32m   1141\u001b[0m             \u001b[0mcheck_input\u001b[0m\u001b[0;34m=\u001b[0m\u001b[0mcheck_input\u001b[0m\u001b[0;34m,\u001b[0m\u001b[0;34m\u001b[0m\u001b[0;34m\u001b[0m\u001b[0m\n\u001b[0;32m-> 1142\u001b[0;31m             X_idx_sorted=X_idx_sorted)\n\u001b[0m\u001b[1;32m   1143\u001b[0m         \u001b[0;32mreturn\u001b[0m \u001b[0mself\u001b[0m\u001b[0;34m\u001b[0m\u001b[0;34m\u001b[0m\u001b[0m\n\u001b[1;32m   1144\u001b[0m \u001b[0;34m\u001b[0m\u001b[0m\n",
      "\u001b[0;32m/home/cecilia/.local/lib/python2.7/site-packages/sklearn/tree/tree.pyc\u001b[0m in \u001b[0;36mfit\u001b[0;34m(self, X, y, sample_weight, check_input, X_idx_sorted)\u001b[0m\n\u001b[1;32m    364\u001b[0m                                            min_impurity_split)\n\u001b[1;32m    365\u001b[0m \u001b[0;34m\u001b[0m\u001b[0m\n\u001b[0;32m--> 366\u001b[0;31m         \u001b[0mbuilder\u001b[0m\u001b[0;34m.\u001b[0m\u001b[0mbuild\u001b[0m\u001b[0;34m(\u001b[0m\u001b[0mself\u001b[0m\u001b[0;34m.\u001b[0m\u001b[0mtree_\u001b[0m\u001b[0;34m,\u001b[0m \u001b[0mX\u001b[0m\u001b[0;34m,\u001b[0m \u001b[0my\u001b[0m\u001b[0;34m,\u001b[0m \u001b[0msample_weight\u001b[0m\u001b[0;34m,\u001b[0m \u001b[0mX_idx_sorted\u001b[0m\u001b[0;34m)\u001b[0m\u001b[0;34m\u001b[0m\u001b[0;34m\u001b[0m\u001b[0m\n\u001b[0m\u001b[1;32m    367\u001b[0m \u001b[0;34m\u001b[0m\u001b[0m\n\u001b[1;32m    368\u001b[0m         \u001b[0;32mif\u001b[0m \u001b[0mself\u001b[0m\u001b[0;34m.\u001b[0m\u001b[0mn_outputs_\u001b[0m \u001b[0;34m==\u001b[0m \u001b[0;36m1\u001b[0m\u001b[0;34m:\u001b[0m\u001b[0;34m\u001b[0m\u001b[0;34m\u001b[0m\u001b[0m\n",
      "\u001b[0;31mKeyboardInterrupt\u001b[0m: "
     ]
    }
   ],
   "source": [
    "errores = []\n",
    "for v in [2,5,8,10,12]:\n",
    "    grd = GradientBoostingRegressor(n_estimators=15, max_depth=v)\n",
    "    print('max_depth: %f'% (v))\n",
    "    error = buscar_parametros_grd_st(grd)\n",
    "    errores.append([error,v])\n",
    "error,v = min(errores,key=lambda x: x[0])\n",
    "print('Error minimo %f con valor %f' %(error,v))"
   ]
  },
  {
   "cell_type": "code",
   "execution_count": 9,
   "metadata": {},
   "outputs": [
    {
     "name": "stdout",
     "output_type": "stream",
     "text": [
      "larning_rate: 0.100000\n",
      "RMSE promedio: 87676.805376\n",
      "larning_rate: 0.200000\n",
      "RMSE promedio: 86913.208565\n",
      "larning_rate: 0.300000\n",
      "RMSE promedio: 86828.726305\n",
      "larning_rate: 0.400000\n",
      "RMSE promedio: 86848.368848\n",
      "larning_rate: 0.500000\n",
      "RMSE promedio: 86913.825871\n",
      "Error minimo 86828.726305 con valor 0.300000\n"
     ]
    }
   ],
   "source": [
    "errores = []\n",
    "for v in [0.1,0.2,0.3,0.4,0.5]:\n",
    "    grd = GradientBoostingRegressor(n_estimators=15, max_depth=5, learning_rate=v)\n",
    "    print('larning_rate: %f'% (v))\n",
    "    error = buscar_parametros_grd_st(grd)\n",
    "    errores.append([error,v])\n",
    "error,v = min(errores,key=lambda x: x[0])\n",
    "print('Error minimo %f con valor %f' %(error,v))"
   ]
  },
  {
   "cell_type": "code",
   "execution_count": 10,
   "metadata": {},
   "outputs": [
    {
     "name": "stdout",
     "output_type": "stream",
     "text": [
      "min_sample_split: 2.000000\n",
      "RMSE promedio: 87236.358448\n",
      "min_sample_split: 4.000000\n",
      "RMSE promedio: 87236.358448\n",
      "min_sample_split: 6.000000\n",
      "RMSE promedio: 87236.358448\n",
      "min_sample_split: 8.000000\n",
      "RMSE promedio: 87236.358448\n",
      "Error minimo 87236.358448 con valor 2.000000\n"
     ]
    }
   ],
   "source": [
    "errores = []\n",
    "for v in [2,4,6,8]:\n",
    "    grd = GradientBoostingRegressor(n_estimators=15, max_depth=3, learning_rate=0.3,\n",
    "                                   min_samples_split=v)\n",
    "    print('min_sample_split: %f'% (v))\n",
    "    error = buscar_parametros_grd_st(grd)\n",
    "    errores.append([error,v])\n",
    "error,v = min(errores,key=lambda x: x[0])\n",
    "print('Error minimo %f con valor %f' %(error,v))"
   ]
  },
  {
   "cell_type": "code",
   "execution_count": 12,
   "metadata": {},
   "outputs": [
    {
     "name": "stdout",
     "output_type": "stream",
     "text": [
      "min_sample_leaf: 1.000000\n",
      "RMSE promedio: 87236.358448\n",
      "min_sample_leaf: 2.000000\n",
      "RMSE promedio: 87236.358448\n",
      "min_sample_leaf: 3.000000\n",
      "RMSE promedio: 87236.358448\n",
      "min_sample_leaf: 4.000000\n",
      "RMSE promedio: 87236.358448\n",
      "Error minimo 87236.358448 con valor 2.000000\n"
     ]
    }
   ],
   "source": [
    "errores = []\n",
    "for v in [1,2,3,4]:\n",
    "    grd = GradientBoostingRegressor(n_estimators=15, max_depth=3, learning_rate=0.3,\n",
    "                                   min_samples_split=2, min_samples_leaf=v)\n",
    "    print('min_sample_leaf: %f'% (v))\n",
    "    error = buscar_parametros_grd_st(grd)\n",
    "    errores.append([error,v])\n",
    "error,v = min(errores,key=lambda x: x[0])\n",
    "print('Error minimo %f con valor %f' %(error,v))"
   ]
  },
  {
   "cell_type": "code",
   "execution_count": 13,
   "metadata": {},
   "outputs": [
    {
     "name": "stdout",
     "output_type": "stream",
     "text": [
      "random_state: 10.000000\n",
      "RMSE promedio: 87236.358448\n",
      "random_state: 20.000000\n",
      "RMSE promedio: 87236.358448\n",
      "random_state: 50.000000\n",
      "RMSE promedio: 87236.358448\n",
      "random_state: 100.000000\n",
      "RMSE promedio: 87236.358448\n",
      "random_state: 150.000000\n",
      "RMSE promedio: 87236.358448\n",
      "Error minimo 87236.358448 con valor 20.000000\n"
     ]
    }
   ],
   "source": [
    "errores = []\n",
    "for v in [10,20,50,100,150]:\n",
    "    grd = GradientBoostingRegressor(n_estimators=15, max_depth=3, learning_rate=0.3,\n",
    "                                   min_samples_split=2, min_samples_leaf=2,\n",
    "                                   random_state=v)\n",
    "    print('random_state: %f'% (v))\n",
    "    error = buscar_parametros_grd_st(grd)\n",
    "    errores.append([error,v])\n",
    "error,v = min(errores,key=lambda x: x[0])\n",
    "print('Error minimo %f con valor %f' %(error,v))"
   ]
  },
  {
   "cell_type": "code",
   "execution_count": 15,
   "metadata": {},
   "outputs": [
    {
     "name": "stdout",
     "output_type": "stream",
     "text": [
      "max_leaf_nodes: 2.000000\n",
      "RMSE promedio: 88913.242013\n",
      "max_leaf_nodes: 3.000000\n",
      "RMSE promedio: 87845.553493\n",
      "max_leaf_nodes: 5.000000\n",
      "RMSE promedio: 87457.166491\n",
      "max_leaf_nodes: 7.000000\n",
      "RMSE promedio: 87233.162206\n",
      "max_leaf_nodes: 9.000000\n",
      "RMSE promedio: 87122.759632\n",
      "Error minimo 87122.759632 con valor 9.000000\n"
     ]
    }
   ],
   "source": [
    "errores = []\n",
    "for v in [2,3,5,7,9]:\n",
    "    grd = GradientBoostingRegressor(n_estimators=15, max_depth=3, learning_rate=0.3,\n",
    "                                    min_samples_split=2, min_samples_leaf=2,\n",
    "                                    max_leaf_nodes=v)\n",
    "    print('max_leaf_nodes: %f'% (v))\n",
    "    error = buscar_parametros_grd_st(grd)\n",
    "    errores.append([error,v])\n",
    "error,v = min(errores,key=lambda x: x[0])\n",
    "print('Error minimo %f con valor %f' %(error,v))"
   ]
  },
  {
   "cell_type": "code",
   "execution_count": 18,
   "metadata": {},
   "outputs": [],
   "source": [
    "grd = GradientBoostingRegressor(n_estimators=20, max_depth=5, learning_rate=0.3,\n",
    "                                    min_samples_split=2, min_samples_leaf=2,\n",
    "                                    max_leaf_nodes=10)\n",
    "for df in archivos_st:\n",
    "    X,y = df.drop(['ref_hash','segundos'],axis=1),df['segundos']\n",
    "    grd.fit(X,y)\n",
    "f = grd.feature_importances_"
   ]
  },
  {
   "cell_type": "code",
   "execution_count": 28,
   "metadata": {},
   "outputs": [],
   "source": [
    "df5 = pd.read_csv('entrenar_sc_1820.csv')\n",
    "df6 = pd.read_csv('entrenar_sc_1921.csv')\n",
    "df7 = pd.read_csv('entrenar_sc_2022.csv')\n",
    "df8 = pd.read_csv('entrenar_sc_2123.csv')\n",
    "archivos_sc = [df5,df6,df7,df8]"
   ]
  },
  {
   "cell_type": "code",
   "execution_count": 29,
   "metadata": {},
   "outputs": [
    {
     "name": "stdout",
     "output_type": "stream",
     "text": [
      "RMSE promedio: 54172.062058\n"
     ]
    }
   ],
   "source": [
    "grd_sc = GradientBoostingRegressor(n_estimators=20, max_depth=5, learning_rate=0.3,\n",
    "                                    min_samples_split=2, min_samples_leaf=2,\n",
    "                                    max_leaf_nodes=10)\n",
    "suma_errores = 0\n",
    "for df in archivos_sc:\n",
    "    X,y = df.drop(['ref_hash','segundos'],axis=1),df['segundos']\n",
    "    X_train, X_test, y_train, y_test = \\\n",
    "    train_test_split(X, y, test_size=0.2, random_state=150)\n",
    "\n",
    "    grd_sc.fit(X_train,y_train)\n",
    "    preds = grd_sc.predict(X_test)\n",
    "    rmse = np.sqrt(mean_squared_error(y_test, preds))\n",
    "    suma_errores += rmse\n",
    "       \n",
    "error_promedio = suma_errores / len(archivos_st)\n",
    "print('RMSE promedio: %f' % (error_promedio))"
   ]
  },
  {
   "cell_type": "code",
   "execution_count": null,
   "metadata": {},
   "outputs": [],
   "source": []
  }
 ],
 "metadata": {
  "kernelspec": {
   "display_name": "Python 2",
   "language": "python",
   "name": "python2"
  },
  "language_info": {
   "codemirror_mode": {
    "name": "ipython",
    "version": 2
   },
   "file_extension": ".py",
   "mimetype": "text/x-python",
   "name": "python",
   "nbconvert_exporter": "python",
   "pygments_lexer": "ipython2",
   "version": "2.7.15+"
  }
 },
 "nbformat": 4,
 "nbformat_minor": 2
}
