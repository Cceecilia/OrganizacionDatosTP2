{
 "cells": [
  {
   "cell_type": "code",
   "execution_count": 1,
   "metadata": {},
   "outputs": [],
   "source": [
    "import pandas as pd\n",
    "import numpy as np"
   ]
  },
  {
   "cell_type": "code",
   "execution_count": 3,
   "metadata": {},
   "outputs": [],
   "source": [
    "df1 = pd.read_csv('entrenar_sc_1820.csv')\n",
    "df2 = pd.read_csv('entrenar_sc_1921.csv')\n",
    "df3 = pd.read_csv('entrenar_sc_2022.csv')\n",
    "df4 = pd.read_csv('entrenar_sc_2123.csv')\n",
    "archivos = [df1,df2,df3,df4]"
   ]
  },
  {
   "cell_type": "code",
   "execution_count": 4,
   "metadata": {},
   "outputs": [],
   "source": [
    "from sklearn.ensemble import RandomForestRegressor\n",
    "from sklearn.metrics import mean_squared_error\n",
    "from sklearn.model_selection import train_test_split"
   ]
  },
  {
   "cell_type": "code",
   "execution_count": 5,
   "metadata": {},
   "outputs": [],
   "source": [
    "def buscar_parametros_randomForest_st(rf_reg):\n",
    "    suma_errores = 0\n",
    "    for df in archivos:\n",
    "        X,y = df.drop(['ref_hash','segundos'],axis=1),df['segundos']\n",
    "        X_train, X_test, y_train, y_test = \\\n",
    "        train_test_split(X, y, test_size=0.2, random_state=150)\n",
    "\n",
    "        rf_reg.fit(X_train,y_train)\n",
    "        preds = rf_reg.predict(X_test)\n",
    "        rmse = np.sqrt(mean_squared_error(y_test, preds))\n",
    "        suma_errores += rmse\n",
    "       \n",
    "    error_promedio = suma_errores / len(archivos)\n",
    "    print('RMSE promedio: %f' % (error_promedio))\n",
    "    return (error_promedio)"
   ]
  },
  {
   "cell_type": "code",
   "execution_count": 6,
   "metadata": {},
   "outputs": [
    {
     "name": "stdout",
     "output_type": "stream",
     "text": [
      "Estimators: 5.000000\n",
      "RMSE promedio: 58229.257605\n",
      "Estimators: 10.000000\n",
      "RMSE promedio: 56778.399376\n",
      "Estimators: 15.000000\n",
      "RMSE promedio: 56225.170593\n",
      "Error minimo 56225.170593 con valor 15.000000\n"
     ]
    }
   ],
   "source": [
    "errores = []\n",
    "for v in [5,10,15]:\n",
    "    rf_reg = RandomForestRegressor(n_estimators=v)\n",
    "    print('Estimators: %f'% (v))\n",
    "    error = buscar_parametros_randomForest_st(rf_reg)\n",
    "    errores.append([error,v])\n",
    "error,v = min(errores,key=lambda x: x[0])\n",
    "print('Error minimo %f con valor %f' %(error,v))"
   ]
  },
  {
   "cell_type": "code",
   "execution_count": 8,
   "metadata": {},
   "outputs": [
    {
     "name": "stdout",
     "output_type": "stream",
     "text": [
      "Max_features: 2.000000\n",
      "RMSE promedio: 56714.437619\n",
      "Max_features: 3.000000\n",
      "RMSE promedio: 56735.701712\n",
      "Max_features: 5.000000\n",
      "RMSE promedio: 56689.498668\n",
      "Max_features: 8.000000\n",
      "RMSE promedio: 56786.282957\n",
      "Max_features: 15.000000\n",
      "RMSE promedio: 56727.991496\n",
      "Error minimo 56689.498668 con valor 5.000000\n"
     ]
    }
   ],
   "source": [
    "errores = []\n",
    "for v in [2,3,5,8,15]:\n",
    "    rf_reg = RandomForestRegressor(n_estimators=10,max_features=v)\n",
    "    print('Max_features: %f'% (v))\n",
    "    error = buscar_parametros_randomForest_st(rf_reg)\n",
    "    errores.append([error,v])\n",
    "error,v = min(errores,key=lambda x: x[0])\n",
    "print('Error minimo %f con valor %f' %(error,v))"
   ]
  },
  {
   "cell_type": "code",
   "execution_count": 9,
   "metadata": {},
   "outputs": [
    {
     "name": "stdout",
     "output_type": "stream",
     "text": [
      "Max_Depth: 2.000000\n",
      "RMSE promedio: 56660.895128\n",
      "Max_Depth: 5.000000\n",
      "RMSE promedio: 54192.985787\n",
      "Max_Depth: 8.000000\n",
      "RMSE promedio: 54177.406335\n",
      "Max_Depth: 10.000000\n",
      "RMSE promedio: 54191.564430\n",
      "Max_Depth: 15.000000\n",
      "RMSE promedio: 54313.991327\n",
      "Max_Depth: 20.000000\n",
      "RMSE promedio: 54637.679932\n",
      "Error minimo 54177.406335 con valor 8.000000\n"
     ]
    }
   ],
   "source": [
    "errores = []\n",
    "for v in [2,5,8,10,15,20]:\n",
    "    rf_reg = RandomForestRegressor(n_estimators=10, max_depth=v, max_features=5)\n",
    "    print('Max_Depth: %f'% (v))\n",
    "    error = buscar_parametros_randomForest_st(rf_reg)\n",
    "    errores.append([error,v])\n",
    "error,v = min(errores,key=lambda x: x[0])\n",
    "print('Error minimo %f con valor %f' %(error,v))"
   ]
  },
  {
   "cell_type": "code",
   "execution_count": 10,
   "metadata": {},
   "outputs": [
    {
     "name": "stdout",
     "output_type": "stream",
     "text": [
      "Min_samples_split: 7.000000\n",
      "RMSE promedio: 54173.764951\n",
      "Min_samples_split: 8.000000\n",
      "RMSE promedio: 54169.612628\n",
      "Min_samples_split: 9.000000\n",
      "RMSE promedio: 54179.309619\n",
      "Min_samples_split: 10.000000\n",
      "RMSE promedio: 54172.497682\n",
      "Error minimo 54169.612628 con valor 8.000000\n"
     ]
    }
   ],
   "source": [
    "errores = []\n",
    "for v in [7,8,9,10]:\n",
    "    rf_reg = RandomForestRegressor(n_estimators=10, max_depth=8, max_features=5,\n",
    "                                   min_samples_split=v)\n",
    "    print('Min_samples_split: %f'% (v))\n",
    "    error = buscar_parametros_randomForest_st(rf_reg)\n",
    "    errores.append([error,v])\n",
    "error,v = min(errores,key=lambda x: x[0])\n",
    "print('Error minimo %f con valor %f' %(error,v))"
   ]
  },
  {
   "cell_type": "code",
   "execution_count": 11,
   "metadata": {},
   "outputs": [
    {
     "name": "stdout",
     "output_type": "stream",
     "text": [
      "Min_samples_leaf: 1.000000\n",
      "RMSE promedio: 54279.094389\n",
      "Min_samples_leaf: 2.000000\n",
      "RMSE promedio: 54258.499220\n",
      "Min_samples_leaf: 3.000000\n",
      "RMSE promedio: 54251.248902\n",
      "Min_samples_leaf: 4.000000\n",
      "RMSE promedio: 54276.439465\n",
      "Min_samples_leaf: 5.000000\n",
      "RMSE promedio: 54225.201426\n",
      "Error minimo 54225.201426 con valor 5.000000\n"
     ]
    }
   ],
   "source": [
    "errores = []\n",
    "for v in [1,2,3,4,5]:\n",
    "    rf_reg = RandomForestRegressor(n_estimators=10, max_depth=14, max_features=5,\n",
    "                                   min_samples_leaf=v)\n",
    "    print('Min_samples_leaf: %f'% (v))\n",
    "    error = buscar_parametros_randomForest_st(rf_reg)\n",
    "    errores.append([error,v])\n",
    "error,v = min(errores,key=lambda x: x[0])\n",
    "print('Error minimo %f con valor %f' %(error,v))"
   ]
  },
  {
   "cell_type": "code",
   "execution_count": 12,
   "metadata": {},
   "outputs": [
    {
     "name": "stdout",
     "output_type": "stream",
     "text": [
      "min_weight_fraction_leaf: 0.000000\n",
      "RMSE promedio: 54286.760820\n",
      "min_weight_fraction_leaf: 0.100000\n",
      "RMSE promedio: 56648.139536\n",
      "min_weight_fraction_leaf: 0.200000\n",
      "RMSE promedio: 63610.111783\n",
      "min_weight_fraction_leaf: 0.300000\n",
      "RMSE promedio: 65019.412771\n",
      "Error minimo 54286.760820 con valor 0.000000\n"
     ]
    }
   ],
   "source": [
    "errores = []\n",
    "for v in [0.0,0.1,0.2,0.3]:\n",
    "    rf_reg = RandomForestRegressor(n_estimators=10, max_depth=14, max_features=5,\n",
    "                                   min_weight_fraction_leaf=v)\n",
    "    print('min_weight_fraction_leaf: %f'% (v))\n",
    "    error = buscar_parametros_randomForest_st(rf_reg)\n",
    "    errores.append([error,v])\n",
    "error,v = min(errores,key=lambda x: x[0])\n",
    "print('Error minimo %f con valor %f' %(error,v))"
   ]
  },
  {
   "cell_type": "code",
   "execution_count": 13,
   "metadata": {},
   "outputs": [
    {
     "name": "stdout",
     "output_type": "stream",
     "text": [
      "min_impurity_decrease: 0.000000\n",
      "RMSE promedio: 54278.726561\n",
      "min_impurity_decrease: 0.100000\n",
      "RMSE promedio: 54284.036496\n",
      "min_impurity_decrease: 0.200000\n",
      "RMSE promedio: 54291.921313\n",
      "min_impurity_decrease: 0.300000\n",
      "RMSE promedio: 54270.267854\n",
      "Error minimo 54270.267854 con valor 0.300000\n"
     ]
    }
   ],
   "source": [
    "errores = []\n",
    "for v in [0.0,0.1,0.2,0.3]:\n",
    "    rf_reg = RandomForestRegressor(n_estimators=10, max_depth=14, max_features=5,\n",
    "                                   min_impurity_decrease=v)\n",
    "    print('min_impurity_decrease: %f'% (v))\n",
    "    error = buscar_parametros_randomForest_st(rf_reg)\n",
    "    errores.append([error,v])\n",
    "error,v = min(errores,key=lambda x: x[0])\n",
    "print('Error minimo %f con valor %f' %(error,v))"
   ]
  },
  {
   "cell_type": "code",
   "execution_count": 14,
   "metadata": {},
   "outputs": [
    {
     "name": "stdout",
     "output_type": "stream",
     "text": [
      "bootstrap: True\n",
      "RMSE promedio: 54277.610541\n",
      "Error minimo 54277.610541 con valor True\n"
     ]
    }
   ],
   "source": [
    "errores = []\n",
    "for v in ['True']:\n",
    "    rf_reg = RandomForestRegressor(n_estimators=10, max_depth=14, max_features=5,\n",
    "                                   min_impurity_decrease=0.3,bootstrap=True)\n",
    "    print('bootstrap: %s'% (v))\n",
    "    error = buscar_parametros_randomForest_st(rf_reg)\n",
    "    errores.append([error,v])\n",
    "error,v = min(errores,key=lambda x: x[0])\n",
    "print('Error minimo %f con valor %s' %(error,v))"
   ]
  },
  {
   "cell_type": "code",
   "execution_count": 15,
   "metadata": {},
   "outputs": [
    {
     "name": "stdout",
     "output_type": "stream",
     "text": [
      " n_jobs: 10.000000\n",
      "RMSE promedio: 54293.351482\n",
      " n_jobs: 20.000000\n",
      "RMSE promedio: 54276.734197\n",
      " n_jobs: 30.000000\n",
      "RMSE promedio: 54291.849494\n",
      "Error minimo 54276.734197 con valor 20.000000\n"
     ]
    }
   ],
   "source": [
    "errores = []\n",
    "for v in [10,20,30]:\n",
    "    rf_reg = RandomForestRegressor(n_estimators=10, max_depth=14, max_features=5,\n",
    "                                   min_impurity_decrease=0.3, n_jobs=v)\n",
    "    print(' n_jobs: %f'% (v))\n",
    "    error = buscar_parametros_randomForest_st(rf_reg)\n",
    "    errores.append([error,v])\n",
    "error,v = min(errores,key=lambda x: x[0])\n",
    "print('Error minimo %f con valor %f' %(error,v))"
   ]
  },
  {
   "cell_type": "code",
   "execution_count": 16,
   "metadata": {},
   "outputs": [
    {
     "name": "stdout",
     "output_type": "stream",
     "text": [
      "random_state: 1.000000\n",
      "RMSE promedio: 54275.015952\n",
      "random_state: 3.000000\n",
      "RMSE promedio: 54290.264200\n",
      "random_state: 5.000000\n",
      "RMSE promedio: 54301.371991\n",
      "random_state: 7.000000\n",
      "RMSE promedio: 54273.948357\n",
      "Error minimo 54273.948357 con valor 7.000000\n"
     ]
    }
   ],
   "source": [
    "errores = []\n",
    "for v in [1,3,5,7]:\n",
    "    rf_reg = RandomForestRegressor(n_estimators=10, max_depth=14, max_features=5,\n",
    "                                   min_impurity_decrease=0.3, random_state=v)\n",
    "    print('random_state: %f'% (v))\n",
    "    error = buscar_parametros_randomForest_st(rf_reg)\n",
    "    errores.append([error,v])\n",
    "error,v = min(errores,key=lambda x: x[0])\n",
    "print('Error minimo %f con valor %f' %(error,v))"
   ]
  },
  {
   "cell_type": "code",
   "execution_count": 18,
   "metadata": {},
   "outputs": [
    {
     "name": "stdout",
     "output_type": "stream",
     "text": [
      "n_estimators: 5.000000\n",
      "RMSE promedio: 54393.507939\n",
      "n_estimators: 10.000000\n",
      "RMSE promedio: 54275.015952\n",
      "n_estimators: 20.000000\n",
      "RMSE promedio: 54222.138899\n",
      "n_estimators: 35.000000\n",
      "RMSE promedio: 54199.065454\n",
      "Error minimo 54199.065454 con valor 35.000000\n"
     ]
    }
   ],
   "source": [
    "errores = []\n",
    "for v in [5,10,20,35]:\n",
    "    rf_reg = RandomForestRegressor(n_estimators=v, max_depth=14, max_features=5,\n",
    "                                   min_impurity_decrease=0.3,random_state=1)\n",
    "    print('n_estimators: %f'% (v))\n",
    "    error = buscar_parametros_randomForest_st(rf_reg)\n",
    "    errores.append([error,v])\n",
    "error,v = min(errores,key=lambda x: x[0])\n",
    "print('Error minimo %f con valor %f' %(error,v))"
   ]
  },
  {
   "cell_type": "code",
   "execution_count": null,
   "metadata": {},
   "outputs": [],
   "source": [
    "rf_reg = RandomForestRegressor(n_estimators=40, max_depth=14, max_features=5,\n",
    "                                   min_impurity_decrease=0.3, random_state=1)"
   ]
  },
  {
   "cell_type": "code",
   "execution_count": null,
   "metadata": {},
   "outputs": [],
   "source": []
  },
  {
   "cell_type": "code",
   "execution_count": null,
   "metadata": {},
   "outputs": [],
   "source": []
  },
  {
   "cell_type": "code",
   "execution_count": null,
   "metadata": {},
   "outputs": [],
   "source": []
  }
 ],
 "metadata": {
  "kernelspec": {
   "display_name": "Python 2",
   "language": "python",
   "name": "python2"
  },
  "language_info": {
   "codemirror_mode": {
    "name": "ipython",
    "version": 2
   },
   "file_extension": ".py",
   "mimetype": "text/x-python",
   "name": "python",
   "nbconvert_exporter": "python",
   "pygments_lexer": "ipython2",
   "version": "2.7.15+"
  }
 },
 "nbformat": 4,
 "nbformat_minor": 2
}
