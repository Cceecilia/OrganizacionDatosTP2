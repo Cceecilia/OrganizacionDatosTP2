{
 "cells": [
  {
   "cell_type": "code",
   "execution_count": 5,
   "metadata": {},
   "outputs": [],
   "source": [
    "import pandas as pd\n",
    "import numpy as np\n",
    "import xgboost as xgb\n",
    "from sklearn.ensemble import RandomForestRegressor\n",
    "from sklearn.ensemble import GradientBoostingRegressor\n",
    "from sklearn.metrics import mean_squared_error\n",
    "from sklearn.model_selection import train_test_split"
   ]
  },
  {
   "cell_type": "code",
   "execution_count": 7,
   "metadata": {},
   "outputs": [],
   "source": [
    "df1 = pd.read_csv('entrenar2_st_1820.csv')\n",
    "df2 = pd.read_csv('entrenar2_st_1921.csv')\n",
    "df3 = pd.read_csv('entrenar2_st_2022.csv')\n",
    "df4 = pd.read_csv('entrenar2_st_2123.csv')\n",
    "archivos_st = [df1,df2,df3,df4]"
   ]
  },
  {
   "cell_type": "code",
   "execution_count": null,
   "metadata": {},
   "outputs": [],
   "source": [
    "xg_reg_st = xgb.XGBRegressor(objective ='reg:linear', \n",
    "            colsample_bytree = 1, learning_rate = 0.5,\n",
    "            max_depth = 5, alpha = 10, n_estimators = 15) \n",
    "xg_reg_sc = xgb.XGBRegressor(objective ='reg:linear', \n",
    "            colsample_bytree = 0.5, learning_rate = 0.5,\n",
    "            max_depth = 3,  n_estimators = 10) "
   ]
  },
  {
   "cell_type": "code",
   "execution_count": null,
   "metadata": {},
   "outputs": [],
   "source": [
    "rf_reg_st = RandomForestRegressor(n_estimators=40, max_depth=14, max_features=9,\n",
    "                                   min_samples_split=7)\n",
    "rf_reg_sc = RandomForestRegressor(n_estimators=40, max_depth=14, max_features=5,\n",
    "                                   min_impurity_decrease=0.3, random_state=1)"
   ]
  },
  {
   "cell_type": "code",
   "execution_count": null,
   "metadata": {},
   "outputs": [],
   "source": [
    "grd = GradientBoostingRegressor(n_estimators=20, max_depth=5, learning_rate=0.3,\n",
    "                                    min_samples_split=2, min_samples_leaf=2,\n",
    "                                    max_leaf_nodes=10)"
   ]
  },
  {
   "cell_type": "code",
   "execution_count": 3,
   "metadata": {},
   "outputs": [],
   "source": [
    "def buscar_pesos(xg,rf,gb):\n",
    "    suma_errores = 0\n",
    "    for df in archivos_st:\n",
    "        \n",
    "        xg_reg_st = xgb.XGBRegressor(objective ='reg:linear', \n",
    "            colsample_bytree = 1, learning_rate = 0.5,\n",
    "            max_depth = 5, alpha = 10, n_estimators = 15) \n",
    "        rf_reg_st = RandomForestRegressor(n_estimators=40, max_depth=14, max_features=9,\n",
    "                                   min_samples_split=7)\n",
    "        grd = GradientBoostingRegressor(n_estimators=20, max_depth=5, learning_rate=0.3,\n",
    "                                    min_samples_split=2, min_samples_leaf=2,\n",
    "                                    max_leaf_nodes=10)\n",
    "        \n",
    "        X,y = df.drop(['ref_hash','segundos'],axis=1),df['segundos']\n",
    "        X_train, X_test, y_train, y_test = \\\n",
    "        train_test_split(X, y, test_size=0.1, random_state=150)\n",
    "\n",
    "        xg_reg_st.fit(X_train,y_train)\n",
    "        preds1 = xg_reg_st.predict(X_test)\n",
    "        rf_reg_st.fit(X_train,y_train)\n",
    "        preds2 = rf_reg_st.predict(X_test)\n",
    "        grd.fit(X_train,y_train)\n",
    "        preds3 = grd.predict(X_test)\n",
    "        \n",
    "        result = xg*preds1 + rf*preds2 + gb*preds3\n",
    "        rmse = np.sqrt(mean_squared_error(y_test, result))\n",
    "        suma_errores += rmse\n",
    "        print('RMSE: %f' % (rmse))\n",
    "       \n",
    "    error_promedio = suma_errores / len(archivos_st)\n",
    "    print('RMSE promedio: %f' % (error_promedio))\n",
    "    return (error_promedio)"
   ]
  },
  {
   "cell_type": "code",
   "execution_count": 8,
   "metadata": {},
   "outputs": [
    {
     "name": "stdout",
     "output_type": "stream",
     "text": [
      "RMSE: 85778.443547\n",
      "RMSE: 88161.128044\n",
      "RMSE: 86874.604853\n",
      "RMSE: 86316.015298\n",
      "RMSE promedio: 86782.547935\n"
     ]
    },
    {
     "data": {
      "text/plain": [
       "86782.547935432056"
      ]
     },
     "execution_count": 8,
     "metadata": {},
     "output_type": "execute_result"
    }
   ],
   "source": [
    "xg = 0.34\n",
    "rf = 0.33\n",
    "gb = 0.33\n",
    "buscar_pesos(xg,rf,gb)"
   ]
  },
  {
   "cell_type": "code",
   "execution_count": 9,
   "metadata": {},
   "outputs": [
    {
     "name": "stdout",
     "output_type": "stream",
     "text": [
      "RMSE: 85755.812770\n",
      "RMSE: 88134.549420\n",
      "RMSE: 86851.865733\n",
      "RMSE: 86300.101885\n",
      "RMSE promedio: 86760.582452\n"
     ]
    },
    {
     "data": {
      "text/plain": [
       "86760.582452111412"
      ]
     },
     "execution_count": 9,
     "metadata": {},
     "output_type": "execute_result"
    }
   ],
   "source": [
    "xg = 0.20\n",
    "rf = 0.60\n",
    "gb = 0.20\n",
    "buscar_pesos(xg,rf,gb)"
   ]
  },
  {
   "cell_type": "code",
   "execution_count": 10,
   "metadata": {},
   "outputs": [
    {
     "name": "stdout",
     "output_type": "stream",
     "text": [
      "RMSE: 85817.766173\n",
      "RMSE: 88170.295408\n",
      "RMSE: 86901.147454\n",
      "RMSE: 86351.942351\n",
      "RMSE promedio: 86810.287846\n"
     ]
    },
    {
     "data": {
      "text/plain": [
       "86810.28784639205"
      ]
     },
     "execution_count": 10,
     "metadata": {},
     "output_type": "execute_result"
    }
   ],
   "source": [
    "xg = 0.60\n",
    "rf = 0.20\n",
    "gb = 0.20\n",
    "buscar_pesos(xg,rf,gb)"
   ]
  },
  {
   "cell_type": "code",
   "execution_count": 11,
   "metadata": {},
   "outputs": [
    {
     "name": "stdout",
     "output_type": "stream",
     "text": [
      "RMSE: 85826.557664\n",
      "RMSE: 88216.380975\n",
      "RMSE: 86933.730362\n",
      "RMSE: 86358.249010\n",
      "RMSE promedio: 86833.729503\n"
     ]
    },
    {
     "data": {
      "text/plain": [
       "86833.729502841859"
      ]
     },
     "execution_count": 11,
     "metadata": {},
     "output_type": "execute_result"
    }
   ],
   "source": [
    "xg = 0.20\n",
    "rf = 0.20\n",
    "gb = 0.60\n",
    "buscar_pesos(xg,rf,gb)"
   ]
  },
  {
   "cell_type": "code",
   "execution_count": 12,
   "metadata": {},
   "outputs": [],
   "source": [
    "t_xg = pd.read_csv('target_xgboost.csv')\n",
    "t_rf = pd.read_csv('target_randomForest.csv')\n",
    "t_gb = pd.read_csv('target_gradient.csv')"
   ]
  },
  {
   "cell_type": "code",
   "execution_count": 14,
   "metadata": {},
   "outputs": [
    {
     "data": {
      "text/html": [
       "<div>\n",
       "<style scoped>\n",
       "    .dataframe tbody tr th:only-of-type {\n",
       "        vertical-align: middle;\n",
       "    }\n",
       "\n",
       "    .dataframe tbody tr th {\n",
       "        vertical-align: top;\n",
       "    }\n",
       "\n",
       "    .dataframe thead th {\n",
       "        text-align: right;\n",
       "    }\n",
       "</style>\n",
       "<table border=\"1\" class=\"dataframe\">\n",
       "  <thead>\n",
       "    <tr style=\"text-align: right;\">\n",
       "      <th></th>\n",
       "      <th>ref_hash</th>\n",
       "    </tr>\n",
       "  </thead>\n",
       "  <tbody>\n",
       "    <tr>\n",
       "      <th>0</th>\n",
       "      <td>1000169251625791246_sc</td>\n",
       "    </tr>\n",
       "    <tr>\n",
       "      <th>1</th>\n",
       "      <td>1000169251625791246_st</td>\n",
       "    </tr>\n",
       "    <tr>\n",
       "      <th>2</th>\n",
       "      <td>1000395625957344683_sc</td>\n",
       "    </tr>\n",
       "    <tr>\n",
       "      <th>3</th>\n",
       "      <td>1000395625957344683_st</td>\n",
       "    </tr>\n",
       "    <tr>\n",
       "      <th>4</th>\n",
       "      <td>1003027494996471685_sc</td>\n",
       "    </tr>\n",
       "  </tbody>\n",
       "</table>\n",
       "</div>"
      ],
      "text/plain": [
       "                 ref_hash\n",
       "0  1000169251625791246_sc\n",
       "1  1000169251625791246_st\n",
       "2  1000395625957344683_sc\n",
       "3  1000395625957344683_st\n",
       "4  1003027494996471685_sc"
      ]
     },
     "execution_count": 14,
     "metadata": {},
     "output_type": "execute_result"
    }
   ],
   "source": [
    "target = pd.DataFrame()\n",
    "target['ref_hash'] = t_xg['ref_hash']\n",
    "target.head()"
   ]
  },
  {
   "cell_type": "code",
   "execution_count": 15,
   "metadata": {},
   "outputs": [
    {
     "data": {
      "text/html": [
       "<div>\n",
       "<style scoped>\n",
       "    .dataframe tbody tr th:only-of-type {\n",
       "        vertical-align: middle;\n",
       "    }\n",
       "\n",
       "    .dataframe tbody tr th {\n",
       "        vertical-align: top;\n",
       "    }\n",
       "\n",
       "    .dataframe thead th {\n",
       "        text-align: right;\n",
       "    }\n",
       "</style>\n",
       "<table border=\"1\" class=\"dataframe\">\n",
       "  <thead>\n",
       "    <tr style=\"text-align: right;\">\n",
       "      <th></th>\n",
       "      <th>ref_hash</th>\n",
       "      <th>obj</th>\n",
       "    </tr>\n",
       "  </thead>\n",
       "  <tbody>\n",
       "    <tr>\n",
       "      <th>0</th>\n",
       "      <td>1000169251625791246_sc</td>\n",
       "      <td>248412.406944</td>\n",
       "    </tr>\n",
       "    <tr>\n",
       "      <th>1</th>\n",
       "      <td>1000169251625791246_st</td>\n",
       "      <td>63698.041881</td>\n",
       "    </tr>\n",
       "    <tr>\n",
       "      <th>2</th>\n",
       "      <td>1000395625957344683_sc</td>\n",
       "      <td>132223.796548</td>\n",
       "    </tr>\n",
       "    <tr>\n",
       "      <th>3</th>\n",
       "      <td>1000395625957344683_st</td>\n",
       "      <td>60543.855606</td>\n",
       "    </tr>\n",
       "    <tr>\n",
       "      <th>4</th>\n",
       "      <td>1003027494996471685_sc</td>\n",
       "      <td>244833.413795</td>\n",
       "    </tr>\n",
       "  </tbody>\n",
       "</table>\n",
       "</div>"
      ],
      "text/plain": [
       "                 ref_hash            obj\n",
       "0  1000169251625791246_sc  248412.406944\n",
       "1  1000169251625791246_st   63698.041881\n",
       "2  1000395625957344683_sc  132223.796548\n",
       "3  1000395625957344683_st   60543.855606\n",
       "4  1003027494996471685_sc  244833.413795"
      ]
     },
     "execution_count": 15,
     "metadata": {},
     "output_type": "execute_result"
    }
   ],
   "source": [
    "target['obj'] = 0.2*t_xg['obj']+0.6*t_rf['obj']+0.2*t_gb['obj']\n",
    "target.head()"
   ]
  },
  {
   "cell_type": "code",
   "execution_count": 16,
   "metadata": {},
   "outputs": [],
   "source": [
    "target.to_csv('target_ponderado.csv', index=False)"
   ]
  },
  {
   "cell_type": "code",
   "execution_count": null,
   "metadata": {},
   "outputs": [],
   "source": []
  }
 ],
 "metadata": {
  "kernelspec": {
   "display_name": "Python 2",
   "language": "python",
   "name": "python2"
  },
  "language_info": {
   "codemirror_mode": {
    "name": "ipython",
    "version": 2
   },
   "file_extension": ".py",
   "mimetype": "text/x-python",
   "name": "python",
   "nbconvert_exporter": "python",
   "pygments_lexer": "ipython2",
   "version": "2.7.15+"
  }
 },
 "nbformat": 4,
 "nbformat_minor": 2
}
