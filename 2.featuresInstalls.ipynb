{
 "cells": [
  {
   "cell_type": "code",
   "execution_count": 2,
   "metadata": {},
   "outputs": [],
   "source": [
    "import pandas as pd\n",
    "import numpy as np\n",
    "from datetime import datetime, date"
   ]
  },
  {
   "cell_type": "code",
   "execution_count": 3,
   "metadata": {},
   "outputs": [
    {
     "name": "stderr",
     "output_type": "stream",
     "text": [
      "/home/cecilia/.local/lib/python2.7/site-packages/IPython/core/interactiveshell.py:2714: DtypeWarning: Columns (4,15) have mixed types. Specify dtype option on import or set low_memory=False.\n",
      "  interactivity=interactivity, compiler=compiler, result=result)\n"
     ]
    }
   ],
   "source": [
    "installs = pd.read_csv(\"installs.csv.gzip\", compression='gzip')"
   ]
  },
  {
   "cell_type": "code",
   "execution_count": 3,
   "metadata": {},
   "outputs": [
    {
     "data": {
      "text/plain": [
       "created                    0\n",
       "application_id             0\n",
       "ref_type                   0\n",
       "ref_hash                   0\n",
       "click_hash            480369\n",
       "attributed                 0\n",
       "implicit                   0\n",
       "device_countrycode         0\n",
       "device_brand          205068\n",
       "device_model           26892\n",
       "session_user_agent     14839\n",
       "user_agent            150743\n",
       "event_uuid            378343\n",
       "kind                  378343\n",
       "wifi                  186682\n",
       "trans_id              472578\n",
       "ip_address                 0\n",
       "device_language        27577\n",
       "dtype: int64"
      ]
     },
     "execution_count": 3,
     "metadata": {},
     "output_type": "execute_result"
    }
   ],
   "source": [
    "installs.isnull().sum()"
   ]
  },
  {
   "cell_type": "code",
   "execution_count": 4,
   "metadata": {},
   "outputs": [
    {
     "data": {
      "text/plain": [
       "(481511, 18)"
      ]
     },
     "execution_count": 4,
     "metadata": {},
     "output_type": "execute_result"
    }
   ],
   "source": [
    "installs.shape"
   ]
  },
  {
   "cell_type": "code",
   "execution_count": 5,
   "metadata": {},
   "outputs": [
    {
     "data": {
      "text/plain": [
       "121    71487\n",
       "36     64471\n",
       "210    33672\n",
       "14     25630\n",
       "65     23067\n",
       "68     18762\n",
       "122    15170\n",
       "155    13629\n",
       "226    13469\n",
       "21     12184\n",
       "Name: application_id, dtype: int64"
      ]
     },
     "execution_count": 5,
     "metadata": {},
     "output_type": "execute_result"
    }
   ],
   "source": [
    "installs['application_id'].value_counts().head(10)"
   ]
  },
  {
   "cell_type": "code",
   "execution_count": 6,
   "metadata": {},
   "outputs": [
    {
     "data": {
      "text/plain": [
       "1891515180541284343    398906\n",
       "1494519392962156891     82605\n",
       "Name: ref_type, dtype: int64"
      ]
     },
     "execution_count": 6,
     "metadata": {},
     "output_type": "execute_result"
    }
   ],
   "source": [
    "installs['ref_type'].value_counts()"
   ]
  },
  {
   "cell_type": "code",
   "execution_count": 7,
   "metadata": {},
   "outputs": [
    {
     "data": {
      "text/plain": [
       "False    480369\n",
       "True       1142\n",
       "Name: attributed, dtype: int64"
      ]
     },
     "execution_count": 7,
     "metadata": {},
     "output_type": "execute_result"
    }
   ],
   "source": [
    "installs['attributed'].value_counts()"
   ]
  },
  {
   "cell_type": "code",
   "execution_count": 8,
   "metadata": {},
   "outputs": [
    {
     "data": {
      "text/plain": [
       "False    378343\n",
       "True     103168\n",
       "Name: implicit, dtype: int64"
      ]
     },
     "execution_count": 8,
     "metadata": {},
     "output_type": "execute_result"
    }
   ],
   "source": [
    "installs['implicit'].value_counts()"
   ]
  },
  {
   "cell_type": "code",
   "execution_count": 9,
   "metadata": {},
   "outputs": [
    {
     "data": {
      "text/plain": [
       "6287817205707153877    481511\n",
       "Name: device_countrycode, dtype: int64"
      ]
     },
     "execution_count": 9,
     "metadata": {},
     "output_type": "execute_result"
    }
   ],
   "source": [
    "installs['device_countrycode'].value_counts()"
   ]
  },
  {
   "cell_type": "code",
   "execution_count": 10,
   "metadata": {},
   "outputs": [
    {
     "data": {
      "text/plain": [
       "6.794880e+18    46187\n",
       "9.186120e+18    13271\n",
       "5.660121e+18     8562\n",
       "3.057402e+18     7384\n",
       "7.346301e+18     6233\n",
       "2.544397e+18     5635\n",
       "5.127788e+18     5609\n",
       "3.017401e+18     5297\n",
       "9.173807e+18     5242\n",
       "1.670346e+18     5158\n",
       "Name: device_model, dtype: int64"
      ]
     },
     "execution_count": 10,
     "metadata": {},
     "output_type": "execute_result"
    }
   ],
   "source": [
    "installs['device_model'].value_counts().head(10)"
   ]
  },
  {
   "cell_type": "code",
   "execution_count": 11,
   "metadata": {},
   "outputs": [
    {
     "data": {
      "text/plain": [
       "True     235130\n",
       "False     59699\n",
       "Name: wifi, dtype: int64"
      ]
     },
     "execution_count": 11,
     "metadata": {},
     "output_type": "execute_result"
    }
   ],
   "source": [
    "installs['wifi'].value_counts()"
   ]
  },
  {
   "cell_type": "code",
   "execution_count": 12,
   "metadata": {},
   "outputs": [
    {
     "data": {
      "text/plain": [
       "6.977049e+18    233012\n",
       "3.301378e+18    149638\n",
       "8.441417e+18     46449\n",
       "6.584214e+18      6041\n",
       "4.060930e+18      5222\n",
       "5.221863e+18      3867\n",
       "1.774282e+18      2565\n",
       "7.528974e+18      1778\n",
       "3.491909e+18      1490\n",
       "2.938044e+18       902\n",
       "Name: device_language, dtype: int64"
      ]
     },
     "execution_count": 12,
     "metadata": {},
     "output_type": "execute_result"
    }
   ],
   "source": [
    "installs['device_language'].value_counts().head(10)"
   ]
  },
  {
   "cell_type": "markdown",
   "metadata": {},
   "source": [
    "### Creo lo archivos de features de las instalaciones"
   ]
  },
  {
   "cell_type": "code",
   "execution_count": 23,
   "metadata": {},
   "outputs": [],
   "source": [
    "def crear_features_installs(installs_entrenar,datetime_inicio):\n",
    "    installs_entrenar['created'] = pd.to_datetime(installs_entrenar['created'])\n",
    "    \n",
    "    dia_en_segundos = 86400\n",
    "    installs_entrenar['segundos'] = ((installs_entrenar['created']-datetime_inicio).dt.seconds + \n",
    "                                     (installs_entrenar['created']-datetime_inicio).dt.days*dia_en_segundos)\n",
    "\n",
    "    \n",
    "    # Cambio application_id por la probabilidad de que aparezca esa aplicacion\n",
    "    aplicacion = installs_entrenar['application_id'].value_counts(normalize=True)\n",
    "    installs_entrenar['application_id'] = installs_entrenar['application_id'].replace(aplicacion)\n",
    "        \n",
    "    # Cambio device_model por la probabilidad de que aparezca ese modelo\n",
    "    modelo = installs_entrenar['device_model'].value_counts(normalize=True)\n",
    "    installs_entrenar['device_model'] = installs_entrenar['device_model'].replace(modelo)\n",
    "    \n",
    "    # Cambio device_language por la probabilidad de que aparezca ese lenguaje\n",
    "    lenguaje = installs_entrenar['device_language'].value_counts(normalize=True)\n",
    "    installs_entrenar['device_language'] = installs_entrenar['device_language'].replace(lenguaje)\n",
    "    \n",
    "    # Cambio ref_type por la probabilidad de que aparezca ese ref_type\n",
    "    tipo = installs_entrenar['ref_type'].value_counts(normalize=True)\n",
    "    installs_entrenar['ref_type'] = installs_entrenar['ref_type'].replace(tipo)\n",
    "    \n",
    "    # Agrego los wifi que faltan\n",
    "    installs_entrenar['wifi'] = installs_entrenar['wifi'].fillna(False)\n",
    "\n",
    "    # Agrupo el data frame por los ref_hash\n",
    "    installs_entrenar = installs_entrenar.groupby('ref_hash').agg({'ref_hash':'count','attributed':'sum',\n",
    "                                                               'wifi':'sum','implicit':'sum',\n",
    "                                                               'application_id':'mean','device_model':'mean',\n",
    "                                                               'device_language':'mean','ref_type':'mean',\n",
    "                                                               'segundos':['min','mean','max']})\n",
    "    \n",
    "    installs_entrenar.columns = ['i_t_min','i_t_prom','i_t_max','i_app_id','i_#installs',\n",
    "                                 'i_model','i_language','i_type','i_wifi','i_implicit','i_attributed']\n",
    "    installs_entrenar = installs_entrenar.reset_index('ref_hash')\n",
    "          \n",
    "    return installs_entrenar"
   ]
  },
  {
   "cell_type": "code",
   "execution_count": 24,
   "metadata": {},
   "outputs": [
    {
     "data": {
      "text/html": [
       "<div>\n",
       "<style scoped>\n",
       "    .dataframe tbody tr th:only-of-type {\n",
       "        vertical-align: middle;\n",
       "    }\n",
       "\n",
       "    .dataframe tbody tr th {\n",
       "        vertical-align: top;\n",
       "    }\n",
       "\n",
       "    .dataframe thead th {\n",
       "        text-align: right;\n",
       "    }\n",
       "</style>\n",
       "<table border=\"1\" class=\"dataframe\">\n",
       "  <thead>\n",
       "    <tr style=\"text-align: right;\">\n",
       "      <th></th>\n",
       "      <th>ref_hash</th>\n",
       "      <th>i_t_min</th>\n",
       "      <th>i_t_prom</th>\n",
       "      <th>i_t_max</th>\n",
       "      <th>i_app_id</th>\n",
       "      <th>i_#installs</th>\n",
       "      <th>i_model</th>\n",
       "      <th>i_language</th>\n",
       "      <th>i_type</th>\n",
       "      <th>i_wifi</th>\n",
       "      <th>i_implicit</th>\n",
       "      <th>i_attributed</th>\n",
       "    </tr>\n",
       "  </thead>\n",
       "  <tbody>\n",
       "    <tr>\n",
       "      <th>0</th>\n",
       "      <td>41863526108385</td>\n",
       "      <td>76310</td>\n",
       "      <td>76472.0</td>\n",
       "      <td>76636</td>\n",
       "      <td>0.109299</td>\n",
       "      <td>4</td>\n",
       "      <td>0.006530</td>\n",
       "      <td>0.526228</td>\n",
       "      <td>0.834491</td>\n",
       "      <td>0.0</td>\n",
       "      <td>2.0</td>\n",
       "      <td>False</td>\n",
       "    </tr>\n",
       "    <tr>\n",
       "      <th>1</th>\n",
       "      <td>135153013040192</td>\n",
       "      <td>192980</td>\n",
       "      <td>192980.0</td>\n",
       "      <td>192980</td>\n",
       "      <td>0.026967</td>\n",
       "      <td>1</td>\n",
       "      <td>0.000039</td>\n",
       "      <td>0.316946</td>\n",
       "      <td>0.834491</td>\n",
       "      <td>0.0</td>\n",
       "      <td>0.0</td>\n",
       "      <td>False</td>\n",
       "    </tr>\n",
       "    <tr>\n",
       "      <th>2</th>\n",
       "      <td>186034136943920</td>\n",
       "      <td>60042</td>\n",
       "      <td>60042.0</td>\n",
       "      <td>60042</td>\n",
       "      <td>0.063763</td>\n",
       "      <td>1</td>\n",
       "      <td>NaN</td>\n",
       "      <td>NaN</td>\n",
       "      <td>0.834491</td>\n",
       "      <td>0.0</td>\n",
       "      <td>1.0</td>\n",
       "      <td>False</td>\n",
       "    </tr>\n",
       "    <tr>\n",
       "      <th>3</th>\n",
       "      <td>365882020742330</td>\n",
       "      <td>96156</td>\n",
       "      <td>96156.0</td>\n",
       "      <td>96156</td>\n",
       "      <td>0.014889</td>\n",
       "      <td>1</td>\n",
       "      <td>0.004079</td>\n",
       "      <td>0.526228</td>\n",
       "      <td>0.834491</td>\n",
       "      <td>0.0</td>\n",
       "      <td>0.0</td>\n",
       "      <td>False</td>\n",
       "    </tr>\n",
       "    <tr>\n",
       "      <th>4</th>\n",
       "      <td>519199987760489</td>\n",
       "      <td>92860</td>\n",
       "      <td>92860.0</td>\n",
       "      <td>92860</td>\n",
       "      <td>0.012377</td>\n",
       "      <td>1</td>\n",
       "      <td>0.001007</td>\n",
       "      <td>0.526228</td>\n",
       "      <td>0.834491</td>\n",
       "      <td>1.0</td>\n",
       "      <td>0.0</td>\n",
       "      <td>False</td>\n",
       "    </tr>\n",
       "  </tbody>\n",
       "</table>\n",
       "</div>"
      ],
      "text/plain": [
       "          ref_hash  i_t_min  i_t_prom  i_t_max  i_app_id  i_#installs  \\\n",
       "0   41863526108385    76310   76472.0    76636  0.109299            4   \n",
       "1  135153013040192   192980  192980.0   192980  0.026967            1   \n",
       "2  186034136943920    60042   60042.0    60042  0.063763            1   \n",
       "3  365882020742330    96156   96156.0    96156  0.014889            1   \n",
       "4  519199987760489    92860   92860.0    92860  0.012377            1   \n",
       "\n",
       "    i_model  i_language    i_type  i_wifi  i_implicit  i_attributed  \n",
       "0  0.006530    0.526228  0.834491     0.0         2.0         False  \n",
       "1  0.000039    0.316946  0.834491     0.0         0.0         False  \n",
       "2       NaN         NaN  0.834491     0.0         1.0         False  \n",
       "3  0.004079    0.526228  0.834491     0.0         0.0         False  \n",
       "4  0.001007    0.526228  0.834491     1.0         0.0         False  "
      ]
     },
     "execution_count": 24,
     "metadata": {},
     "output_type": "execute_result"
    }
   ],
   "source": [
    "installs_entrenar = pd.read_csv('installs_1820.csv')\n",
    "datetime_inicio = datetime(2019,4,18)\n",
    "f_installs = crear_features_installs(installs_entrenar,datetime_inicio)\n",
    "f_installs.to_csv('installs_train_1820.csv', index=False)\n",
    "f_installs.head()"
   ]
  },
  {
   "cell_type": "code",
   "execution_count": 25,
   "metadata": {},
   "outputs": [
    {
     "data": {
      "text/html": [
       "<div>\n",
       "<style scoped>\n",
       "    .dataframe tbody tr th:only-of-type {\n",
       "        vertical-align: middle;\n",
       "    }\n",
       "\n",
       "    .dataframe tbody tr th {\n",
       "        vertical-align: top;\n",
       "    }\n",
       "\n",
       "    .dataframe thead th {\n",
       "        text-align: right;\n",
       "    }\n",
       "</style>\n",
       "<table border=\"1\" class=\"dataframe\">\n",
       "  <thead>\n",
       "    <tr style=\"text-align: right;\">\n",
       "      <th></th>\n",
       "      <th>ref_hash</th>\n",
       "      <th>i_t_min</th>\n",
       "      <th>i_t_prom</th>\n",
       "      <th>i_t_max</th>\n",
       "      <th>i_app_id</th>\n",
       "      <th>i_#installs</th>\n",
       "      <th>i_model</th>\n",
       "      <th>i_language</th>\n",
       "      <th>i_type</th>\n",
       "      <th>i_wifi</th>\n",
       "      <th>i_implicit</th>\n",
       "      <th>i_attributed</th>\n",
       "    </tr>\n",
       "  </thead>\n",
       "  <tbody>\n",
       "    <tr>\n",
       "      <th>0</th>\n",
       "      <td>40621409780134</td>\n",
       "      <td>242267</td>\n",
       "      <td>242267.0</td>\n",
       "      <td>242267</td>\n",
       "      <td>0.011750</td>\n",
       "      <td>1</td>\n",
       "      <td>0.006618</td>\n",
       "      <td>0.317287</td>\n",
       "      <td>0.833182</td>\n",
       "      <td>0.0</td>\n",
       "      <td>0.0</td>\n",
       "      <td>0.0</td>\n",
       "    </tr>\n",
       "    <tr>\n",
       "      <th>1</th>\n",
       "      <td>135153013040192</td>\n",
       "      <td>106580</td>\n",
       "      <td>106580.0</td>\n",
       "      <td>106580</td>\n",
       "      <td>0.027300</td>\n",
       "      <td>1</td>\n",
       "      <td>0.000060</td>\n",
       "      <td>0.317287</td>\n",
       "      <td>0.833182</td>\n",
       "      <td>0.0</td>\n",
       "      <td>0.0</td>\n",
       "      <td>0.0</td>\n",
       "    </tr>\n",
       "    <tr>\n",
       "      <th>2</th>\n",
       "      <td>345999128501141</td>\n",
       "      <td>188378</td>\n",
       "      <td>188378.0</td>\n",
       "      <td>188378</td>\n",
       "      <td>0.027300</td>\n",
       "      <td>1</td>\n",
       "      <td>0.002233</td>\n",
       "      <td>0.317287</td>\n",
       "      <td>0.833182</td>\n",
       "      <td>0.0</td>\n",
       "      <td>0.0</td>\n",
       "      <td>0.0</td>\n",
       "    </tr>\n",
       "    <tr>\n",
       "      <th>3</th>\n",
       "      <td>365882020742330</td>\n",
       "      <td>9756</td>\n",
       "      <td>9756.0</td>\n",
       "      <td>9756</td>\n",
       "      <td>0.015855</td>\n",
       "      <td>1</td>\n",
       "      <td>0.003899</td>\n",
       "      <td>0.524056</td>\n",
       "      <td>0.833182</td>\n",
       "      <td>0.0</td>\n",
       "      <td>0.0</td>\n",
       "      <td>0.0</td>\n",
       "    </tr>\n",
       "    <tr>\n",
       "      <th>4</th>\n",
       "      <td>457867161681660</td>\n",
       "      <td>251847</td>\n",
       "      <td>251847.0</td>\n",
       "      <td>251847</td>\n",
       "      <td>0.040905</td>\n",
       "      <td>1</td>\n",
       "      <td>0.101014</td>\n",
       "      <td>0.102965</td>\n",
       "      <td>0.166818</td>\n",
       "      <td>1.0</td>\n",
       "      <td>0.0</td>\n",
       "      <td>0.0</td>\n",
       "    </tr>\n",
       "  </tbody>\n",
       "</table>\n",
       "</div>"
      ],
      "text/plain": [
       "          ref_hash  i_t_min  i_t_prom  i_t_max  i_app_id  i_#installs  \\\n",
       "0   40621409780134   242267  242267.0   242267  0.011750            1   \n",
       "1  135153013040192   106580  106580.0   106580  0.027300            1   \n",
       "2  345999128501141   188378  188378.0   188378  0.027300            1   \n",
       "3  365882020742330     9756    9756.0     9756  0.015855            1   \n",
       "4  457867161681660   251847  251847.0   251847  0.040905            1   \n",
       "\n",
       "    i_model  i_language    i_type  i_wifi  i_implicit  i_attributed  \n",
       "0  0.006618    0.317287  0.833182     0.0         0.0           0.0  \n",
       "1  0.000060    0.317287  0.833182     0.0         0.0           0.0  \n",
       "2  0.002233    0.317287  0.833182     0.0         0.0           0.0  \n",
       "3  0.003899    0.524056  0.833182     0.0         0.0           0.0  \n",
       "4  0.101014    0.102965  0.166818     1.0         0.0           0.0  "
      ]
     },
     "execution_count": 25,
     "metadata": {},
     "output_type": "execute_result"
    }
   ],
   "source": [
    "installs_entrenar = pd.read_csv('installs_1921.csv')\n",
    "datetime_inicio = datetime(2019,4,19)\n",
    "f_installs = crear_features_installs(installs_entrenar,datetime_inicio)\n",
    "f_installs.to_csv('installs_train_1921.csv', index=False)\n",
    "f_installs.head()"
   ]
  },
  {
   "cell_type": "code",
   "execution_count": 26,
   "metadata": {},
   "outputs": [
    {
     "data": {
      "text/html": [
       "<div>\n",
       "<style scoped>\n",
       "    .dataframe tbody tr th:only-of-type {\n",
       "        vertical-align: middle;\n",
       "    }\n",
       "\n",
       "    .dataframe tbody tr th {\n",
       "        vertical-align: top;\n",
       "    }\n",
       "\n",
       "    .dataframe thead th {\n",
       "        text-align: right;\n",
       "    }\n",
       "</style>\n",
       "<table border=\"1\" class=\"dataframe\">\n",
       "  <thead>\n",
       "    <tr style=\"text-align: right;\">\n",
       "      <th></th>\n",
       "      <th>ref_hash</th>\n",
       "      <th>i_t_min</th>\n",
       "      <th>i_t_prom</th>\n",
       "      <th>i_t_max</th>\n",
       "      <th>i_app_id</th>\n",
       "      <th>i_#installs</th>\n",
       "      <th>i_model</th>\n",
       "      <th>i_language</th>\n",
       "      <th>i_type</th>\n",
       "      <th>i_wifi</th>\n",
       "      <th>i_implicit</th>\n",
       "      <th>i_attributed</th>\n",
       "    </tr>\n",
       "  </thead>\n",
       "  <tbody>\n",
       "    <tr>\n",
       "      <th>0</th>\n",
       "      <td>40621409780134</td>\n",
       "      <td>155867</td>\n",
       "      <td>155867.0</td>\n",
       "      <td>155867</td>\n",
       "      <td>0.012172</td>\n",
       "      <td>1</td>\n",
       "      <td>0.006409</td>\n",
       "      <td>0.324184</td>\n",
       "      <td>0.828972</td>\n",
       "      <td>0.0</td>\n",
       "      <td>0.0</td>\n",
       "      <td>0.0</td>\n",
       "    </tr>\n",
       "    <tr>\n",
       "      <th>1</th>\n",
       "      <td>135153013040192</td>\n",
       "      <td>20180</td>\n",
       "      <td>20180.0</td>\n",
       "      <td>20180</td>\n",
       "      <td>0.028381</td>\n",
       "      <td>1</td>\n",
       "      <td>0.000060</td>\n",
       "      <td>0.324184</td>\n",
       "      <td>0.828972</td>\n",
       "      <td>0.0</td>\n",
       "      <td>0.0</td>\n",
       "      <td>0.0</td>\n",
       "    </tr>\n",
       "    <tr>\n",
       "      <th>2</th>\n",
       "      <td>161514654074162</td>\n",
       "      <td>238424</td>\n",
       "      <td>238424.0</td>\n",
       "      <td>238424</td>\n",
       "      <td>0.056471</td>\n",
       "      <td>1</td>\n",
       "      <td>0.007606</td>\n",
       "      <td>0.515034</td>\n",
       "      <td>0.828972</td>\n",
       "      <td>1.0</td>\n",
       "      <td>1.0</td>\n",
       "      <td>0.0</td>\n",
       "    </tr>\n",
       "    <tr>\n",
       "      <th>3</th>\n",
       "      <td>168103949904656</td>\n",
       "      <td>173373</td>\n",
       "      <td>173373.0</td>\n",
       "      <td>173373</td>\n",
       "      <td>0.028381</td>\n",
       "      <td>1</td>\n",
       "      <td>0.000253</td>\n",
       "      <td>0.324184</td>\n",
       "      <td>0.828972</td>\n",
       "      <td>0.0</td>\n",
       "      <td>0.0</td>\n",
       "      <td>0.0</td>\n",
       "    </tr>\n",
       "    <tr>\n",
       "      <th>4</th>\n",
       "      <td>283297668933729</td>\n",
       "      <td>222129</td>\n",
       "      <td>222129.0</td>\n",
       "      <td>222129</td>\n",
       "      <td>0.068694</td>\n",
       "      <td>1</td>\n",
       "      <td>0.003916</td>\n",
       "      <td>0.324184</td>\n",
       "      <td>0.828972</td>\n",
       "      <td>0.0</td>\n",
       "      <td>0.0</td>\n",
       "      <td>0.0</td>\n",
       "    </tr>\n",
       "  </tbody>\n",
       "</table>\n",
       "</div>"
      ],
      "text/plain": [
       "          ref_hash  i_t_min  i_t_prom  i_t_max  i_app_id  i_#installs  \\\n",
       "0   40621409780134   155867  155867.0   155867  0.012172            1   \n",
       "1  135153013040192    20180   20180.0    20180  0.028381            1   \n",
       "2  161514654074162   238424  238424.0   238424  0.056471            1   \n",
       "3  168103949904656   173373  173373.0   173373  0.028381            1   \n",
       "4  283297668933729   222129  222129.0   222129  0.068694            1   \n",
       "\n",
       "    i_model  i_language    i_type  i_wifi  i_implicit  i_attributed  \n",
       "0  0.006409    0.324184  0.828972     0.0         0.0           0.0  \n",
       "1  0.000060    0.324184  0.828972     0.0         0.0           0.0  \n",
       "2  0.007606    0.515034  0.828972     1.0         1.0           0.0  \n",
       "3  0.000253    0.324184  0.828972     0.0         0.0           0.0  \n",
       "4  0.003916    0.324184  0.828972     0.0         0.0           0.0  "
      ]
     },
     "execution_count": 26,
     "metadata": {},
     "output_type": "execute_result"
    }
   ],
   "source": [
    "installs_entrenar = pd.read_csv('installs_2022.csv')\n",
    "datetime_inicio = datetime(2019,4,20)\n",
    "f_installs = crear_features_installs(installs_entrenar,datetime_inicio)\n",
    "f_installs.to_csv('installs_train_2022.csv', index=False)\n",
    "f_installs.head()"
   ]
  },
  {
   "cell_type": "code",
   "execution_count": 27,
   "metadata": {},
   "outputs": [
    {
     "data": {
      "text/html": [
       "<div>\n",
       "<style scoped>\n",
       "    .dataframe tbody tr th:only-of-type {\n",
       "        vertical-align: middle;\n",
       "    }\n",
       "\n",
       "    .dataframe tbody tr th {\n",
       "        vertical-align: top;\n",
       "    }\n",
       "\n",
       "    .dataframe thead th {\n",
       "        text-align: right;\n",
       "    }\n",
       "</style>\n",
       "<table border=\"1\" class=\"dataframe\">\n",
       "  <thead>\n",
       "    <tr style=\"text-align: right;\">\n",
       "      <th></th>\n",
       "      <th>ref_hash</th>\n",
       "      <th>i_t_min</th>\n",
       "      <th>i_t_prom</th>\n",
       "      <th>i_t_max</th>\n",
       "      <th>i_app_id</th>\n",
       "      <th>i_#installs</th>\n",
       "      <th>i_model</th>\n",
       "      <th>i_language</th>\n",
       "      <th>i_type</th>\n",
       "      <th>i_wifi</th>\n",
       "      <th>i_implicit</th>\n",
       "      <th>i_attributed</th>\n",
       "    </tr>\n",
       "  </thead>\n",
       "  <tbody>\n",
       "    <tr>\n",
       "      <th>0</th>\n",
       "      <td>40621409780134</td>\n",
       "      <td>69467</td>\n",
       "      <td>69467.0</td>\n",
       "      <td>69467</td>\n",
       "      <td>0.012626</td>\n",
       "      <td>1</td>\n",
       "      <td>0.006177</td>\n",
       "      <td>0.328401</td>\n",
       "      <td>0.826917</td>\n",
       "      <td>0.0</td>\n",
       "      <td>0.0</td>\n",
       "      <td>0.0</td>\n",
       "    </tr>\n",
       "    <tr>\n",
       "      <th>1</th>\n",
       "      <td>161514654074162</td>\n",
       "      <td>152024</td>\n",
       "      <td>152024.0</td>\n",
       "      <td>152024</td>\n",
       "      <td>0.049540</td>\n",
       "      <td>1</td>\n",
       "      <td>0.007135</td>\n",
       "      <td>0.510374</td>\n",
       "      <td>0.826917</td>\n",
       "      <td>1.0</td>\n",
       "      <td>1.0</td>\n",
       "      <td>0.0</td>\n",
       "    </tr>\n",
       "    <tr>\n",
       "      <th>2</th>\n",
       "      <td>168103949904656</td>\n",
       "      <td>86973</td>\n",
       "      <td>86973.0</td>\n",
       "      <td>86973</td>\n",
       "      <td>0.028577</td>\n",
       "      <td>1</td>\n",
       "      <td>0.000251</td>\n",
       "      <td>0.328401</td>\n",
       "      <td>0.826917</td>\n",
       "      <td>0.0</td>\n",
       "      <td>0.0</td>\n",
       "      <td>0.0</td>\n",
       "    </tr>\n",
       "    <tr>\n",
       "      <th>3</th>\n",
       "      <td>283297668933729</td>\n",
       "      <td>135729</td>\n",
       "      <td>135729.0</td>\n",
       "      <td>135729</td>\n",
       "      <td>0.070329</td>\n",
       "      <td>1</td>\n",
       "      <td>0.003977</td>\n",
       "      <td>0.328401</td>\n",
       "      <td>0.826917</td>\n",
       "      <td>0.0</td>\n",
       "      <td>0.0</td>\n",
       "      <td>0.0</td>\n",
       "    </tr>\n",
       "    <tr>\n",
       "      <th>4</th>\n",
       "      <td>345999128501141</td>\n",
       "      <td>15578</td>\n",
       "      <td>15578.0</td>\n",
       "      <td>15578</td>\n",
       "      <td>0.028577</td>\n",
       "      <td>1</td>\n",
       "      <td>0.002233</td>\n",
       "      <td>0.328401</td>\n",
       "      <td>0.826917</td>\n",
       "      <td>0.0</td>\n",
       "      <td>0.0</td>\n",
       "      <td>0.0</td>\n",
       "    </tr>\n",
       "  </tbody>\n",
       "</table>\n",
       "</div>"
      ],
      "text/plain": [
       "          ref_hash  i_t_min  i_t_prom  i_t_max  i_app_id  i_#installs  \\\n",
       "0   40621409780134    69467   69467.0    69467  0.012626            1   \n",
       "1  161514654074162   152024  152024.0   152024  0.049540            1   \n",
       "2  168103949904656    86973   86973.0    86973  0.028577            1   \n",
       "3  283297668933729   135729  135729.0   135729  0.070329            1   \n",
       "4  345999128501141    15578   15578.0    15578  0.028577            1   \n",
       "\n",
       "    i_model  i_language    i_type  i_wifi  i_implicit  i_attributed  \n",
       "0  0.006177    0.328401  0.826917     0.0         0.0           0.0  \n",
       "1  0.007135    0.510374  0.826917     1.0         1.0           0.0  \n",
       "2  0.000251    0.328401  0.826917     0.0         0.0           0.0  \n",
       "3  0.003977    0.328401  0.826917     0.0         0.0           0.0  \n",
       "4  0.002233    0.328401  0.826917     0.0         0.0           0.0  "
      ]
     },
     "execution_count": 27,
     "metadata": {},
     "output_type": "execute_result"
    }
   ],
   "source": [
    "installs_entrenar = pd.read_csv('installs_2123.csv')\n",
    "datetime_inicio = datetime(2019,4,21)\n",
    "f_installs = crear_features_installs(installs_entrenar,datetime_inicio)\n",
    "f_installs.to_csv('installs_train_2123.csv', index=False)\n",
    "f_installs.head()"
   ]
  },
  {
   "cell_type": "code",
   "execution_count": 28,
   "metadata": {},
   "outputs": [
    {
     "data": {
      "text/html": [
       "<div>\n",
       "<style scoped>\n",
       "    .dataframe tbody tr th:only-of-type {\n",
       "        vertical-align: middle;\n",
       "    }\n",
       "\n",
       "    .dataframe tbody tr th {\n",
       "        vertical-align: top;\n",
       "    }\n",
       "\n",
       "    .dataframe thead th {\n",
       "        text-align: right;\n",
       "    }\n",
       "</style>\n",
       "<table border=\"1\" class=\"dataframe\">\n",
       "  <thead>\n",
       "    <tr style=\"text-align: right;\">\n",
       "      <th></th>\n",
       "      <th>ref_hash</th>\n",
       "      <th>i_t_min</th>\n",
       "      <th>i_t_prom</th>\n",
       "      <th>i_t_max</th>\n",
       "      <th>i_app_id</th>\n",
       "      <th>i_#installs</th>\n",
       "      <th>i_model</th>\n",
       "      <th>i_language</th>\n",
       "      <th>i_type</th>\n",
       "      <th>i_wifi</th>\n",
       "      <th>i_implicit</th>\n",
       "      <th>i_attributed</th>\n",
       "    </tr>\n",
       "  </thead>\n",
       "  <tbody>\n",
       "    <tr>\n",
       "      <th>0</th>\n",
       "      <td>90072729247980</td>\n",
       "      <td>66650</td>\n",
       "      <td>66650.0</td>\n",
       "      <td>66650</td>\n",
       "      <td>0.075728</td>\n",
       "      <td>1</td>\n",
       "      <td>0.001783</td>\n",
       "      <td>0.343916</td>\n",
       "      <td>0.823905</td>\n",
       "      <td>0.0</td>\n",
       "      <td>0.0</td>\n",
       "      <td>0.0</td>\n",
       "    </tr>\n",
       "    <tr>\n",
       "      <th>1</th>\n",
       "      <td>342614246084071</td>\n",
       "      <td>253421</td>\n",
       "      <td>253421.0</td>\n",
       "      <td>253421</td>\n",
       "      <td>0.005268</td>\n",
       "      <td>1</td>\n",
       "      <td>0.002016</td>\n",
       "      <td>0.343916</td>\n",
       "      <td>0.176095</td>\n",
       "      <td>0.0</td>\n",
       "      <td>0.0</td>\n",
       "      <td>0.0</td>\n",
       "    </tr>\n",
       "    <tr>\n",
       "      <th>2</th>\n",
       "      <td>347785260789835</td>\n",
       "      <td>250811</td>\n",
       "      <td>250811.0</td>\n",
       "      <td>250811</td>\n",
       "      <td>0.000562</td>\n",
       "      <td>1</td>\n",
       "      <td>0.000433</td>\n",
       "      <td>0.343916</td>\n",
       "      <td>0.823905</td>\n",
       "      <td>0.0</td>\n",
       "      <td>1.0</td>\n",
       "      <td>0.0</td>\n",
       "    </tr>\n",
       "    <tr>\n",
       "      <th>3</th>\n",
       "      <td>416301579449694</td>\n",
       "      <td>140951</td>\n",
       "      <td>140951.0</td>\n",
       "      <td>140951</td>\n",
       "      <td>0.000256</td>\n",
       "      <td>1</td>\n",
       "      <td>NaN</td>\n",
       "      <td>NaN</td>\n",
       "      <td>0.823905</td>\n",
       "      <td>0.0</td>\n",
       "      <td>0.0</td>\n",
       "      <td>0.0</td>\n",
       "    </tr>\n",
       "    <tr>\n",
       "      <th>4</th>\n",
       "      <td>420449720220692</td>\n",
       "      <td>147791</td>\n",
       "      <td>147791.0</td>\n",
       "      <td>147791</td>\n",
       "      <td>0.007042</td>\n",
       "      <td>1</td>\n",
       "      <td>NaN</td>\n",
       "      <td>NaN</td>\n",
       "      <td>0.823905</td>\n",
       "      <td>0.0</td>\n",
       "      <td>0.0</td>\n",
       "      <td>0.0</td>\n",
       "    </tr>\n",
       "  </tbody>\n",
       "</table>\n",
       "</div>"
      ],
      "text/plain": [
       "          ref_hash  i_t_min  i_t_prom  i_t_max  i_app_id  i_#installs  \\\n",
       "0   90072729247980    66650   66650.0    66650  0.075728            1   \n",
       "1  342614246084071   253421  253421.0   253421  0.005268            1   \n",
       "2  347785260789835   250811  250811.0   250811  0.000562            1   \n",
       "3  416301579449694   140951  140951.0   140951  0.000256            1   \n",
       "4  420449720220692   147791  147791.0   147791  0.007042            1   \n",
       "\n",
       "    i_model  i_language    i_type  i_wifi  i_implicit  i_attributed  \n",
       "0  0.001783    0.343916  0.823905     0.0         0.0           0.0  \n",
       "1  0.002016    0.343916  0.176095     0.0         0.0           0.0  \n",
       "2  0.000433    0.343916  0.823905     0.0         1.0           0.0  \n",
       "3       NaN         NaN  0.823905     0.0         0.0           0.0  \n",
       "4       NaN         NaN  0.823905     0.0         0.0           0.0  "
      ]
     },
     "execution_count": 28,
     "metadata": {},
     "output_type": "execute_result"
    }
   ],
   "source": [
    "installs_entrenar = pd.read_csv('installs_2426.csv')\n",
    "datetime_inicio = datetime(2019,4,24)\n",
    "f_installs = crear_features_installs(installs_entrenar,datetime_inicio)\n",
    "f_installs.to_csv('installs_train_2426.csv', index=False)\n",
    "f_installs.head()"
   ]
  },
  {
   "cell_type": "markdown",
   "metadata": {},
   "source": [
    "### Creo los archivos para testear las instalaciones"
   ]
  },
  {
   "cell_type": "code",
   "execution_count": 29,
   "metadata": {},
   "outputs": [],
   "source": [
    "def crear_test_installs(installs_validar,datetime_validacion):\n",
    "    \n",
    "    dia_en_segundos = 86400\n",
    "    installs_validar['created'] = pd.to_datetime(installs_validar['created'])\n",
    "    \n",
    "    installs_validar['segundos'] = ((installs_validar['created']-datetime_validacion).dt.seconds + \n",
    "                                     (installs_validar['created']-datetime_validacion).dt.days*dia_en_segundos)\n",
    "        \n",
    "    installs_validar = installs_validar.groupby('ref_hash').agg({'segundos':'mean'}).reset_index('ref_hash')  \n",
    "        \n",
    "    return installs_validar\n",
    "   "
   ]
  },
  {
   "cell_type": "code",
   "execution_count": 30,
   "metadata": {},
   "outputs": [
    {
     "data": {
      "text/html": [
       "<div>\n",
       "<style scoped>\n",
       "    .dataframe tbody tr th:only-of-type {\n",
       "        vertical-align: middle;\n",
       "    }\n",
       "\n",
       "    .dataframe tbody tr th {\n",
       "        vertical-align: top;\n",
       "    }\n",
       "\n",
       "    .dataframe thead th {\n",
       "        text-align: right;\n",
       "    }\n",
       "</style>\n",
       "<table border=\"1\" class=\"dataframe\">\n",
       "  <thead>\n",
       "    <tr style=\"text-align: right;\">\n",
       "      <th></th>\n",
       "      <th>ref_hash</th>\n",
       "      <th>segundos</th>\n",
       "    </tr>\n",
       "  </thead>\n",
       "  <tbody>\n",
       "    <tr>\n",
       "      <th>0</th>\n",
       "      <td>40621409780134</td>\n",
       "      <td>69467</td>\n",
       "    </tr>\n",
       "    <tr>\n",
       "      <th>1</th>\n",
       "      <td>161514654074162</td>\n",
       "      <td>152024</td>\n",
       "    </tr>\n",
       "    <tr>\n",
       "      <th>2</th>\n",
       "      <td>168103949904656</td>\n",
       "      <td>86973</td>\n",
       "    </tr>\n",
       "    <tr>\n",
       "      <th>3</th>\n",
       "      <td>283297668933729</td>\n",
       "      <td>135729</td>\n",
       "    </tr>\n",
       "    <tr>\n",
       "      <th>4</th>\n",
       "      <td>345999128501141</td>\n",
       "      <td>15578</td>\n",
       "    </tr>\n",
       "  </tbody>\n",
       "</table>\n",
       "</div>"
      ],
      "text/plain": [
       "          ref_hash  segundos\n",
       "0   40621409780134     69467\n",
       "1  161514654074162    152024\n",
       "2  168103949904656     86973\n",
       "3  283297668933729    135729\n",
       "4  345999128501141     15578"
      ]
     },
     "execution_count": 30,
     "metadata": {},
     "output_type": "execute_result"
    }
   ],
   "source": [
    "installs_validar = pd.read_csv('installs_2123.csv')\n",
    "datetime_validar = datetime(2019,4,21)\n",
    "installs_validar = crear_test_installs(installs_validar,datetime_validar)\n",
    "installs_validar.to_csv('installs_test_1820.csv', index=False)\n",
    "installs_validar.head()"
   ]
  },
  {
   "cell_type": "code",
   "execution_count": 31,
   "metadata": {},
   "outputs": [],
   "source": [
    "installs_validar = pd.read_csv('installs_2224.csv')\n",
    "datetime_validar = datetime(2019,4,22)\n",
    "installs_validar = crear_test_installs(installs_validar,datetime_validar)\n",
    "installs_validar.to_csv('installs_test_1921.csv', index=False)"
   ]
  },
  {
   "cell_type": "code",
   "execution_count": 32,
   "metadata": {},
   "outputs": [],
   "source": [
    "installs_validar = pd.read_csv('installs_2325.csv')\n",
    "datetime_validar = datetime(2019,4,23)\n",
    "installs_validar = crear_test_installs(installs_validar,datetime_validar)\n",
    "installs_validar.to_csv('installs_test_2022.csv', index=False)"
   ]
  },
  {
   "cell_type": "code",
   "execution_count": 33,
   "metadata": {},
   "outputs": [],
   "source": [
    "installs_validar = pd.read_csv('installs_2426.csv')\n",
    "datetime_validar = datetime(2019,4,24)\n",
    "installs_validar = crear_test_installs(installs_validar,datetime_validar)\n",
    "installs_validar.to_csv('installs_test_2123.csv', index=False)"
   ]
  },
  {
   "cell_type": "code",
   "execution_count": null,
   "metadata": {},
   "outputs": [],
   "source": []
  }
 ],
 "metadata": {
  "kernelspec": {
   "display_name": "Python 2",
   "language": "python",
   "name": "python2"
  },
  "language_info": {
   "codemirror_mode": {
    "name": "ipython",
    "version": 2
   },
   "file_extension": ".py",
   "mimetype": "text/x-python",
   "name": "python",
   "nbconvert_exporter": "python",
   "pygments_lexer": "ipython2",
   "version": "2.7.15+"
  }
 },
 "nbformat": 4,
 "nbformat_minor": 2
}
