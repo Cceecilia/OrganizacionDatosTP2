{
 "cells": [
  {
   "cell_type": "code",
   "execution_count": 1,
   "metadata": {},
   "outputs": [],
   "source": [
    "import pandas as pd\n",
    "import numpy as np"
   ]
  },
  {
   "cell_type": "code",
   "execution_count": 2,
   "metadata": {},
   "outputs": [],
   "source": [
    "from sklearn.ensemble import GradientBoostingRegressor"
   ]
  },
  {
   "cell_type": "code",
   "execution_count": 3,
   "metadata": {},
   "outputs": [],
   "source": [
    "df1 = pd.read_csv('entrenar_st_1820.csv')\n",
    "df2 = pd.read_csv('entrenar_st_1921.csv')\n",
    "df3 = pd.read_csv('entrenar_st_2022.csv')\n",
    "df4 = pd.read_csv('entrenar_st_2123.csv')\n",
    "archivos_st = [df1,df2,df3,df4]"
   ]
  },
  {
   "cell_type": "code",
   "execution_count": 4,
   "metadata": {},
   "outputs": [],
   "source": [
    "df5 = pd.read_csv('entrenar_sc_1820.csv')\n",
    "df6 = pd.read_csv('entrenar_sc_1921.csv')\n",
    "df7 = pd.read_csv('entrenar_sc_2022.csv')\n",
    "df8 = pd.read_csv('entrenar_sc_2123.csv')\n",
    "archivos_sc = [df5,df6,df7,df8]"
   ]
  },
  {
   "cell_type": "code",
   "execution_count": 5,
   "metadata": {},
   "outputs": [],
   "source": [
    "grd = GradientBoostingRegressor(n_estimators=20, max_depth=5, learning_rate=0.3,\n",
    "                                    min_samples_split=2, min_samples_leaf=2,\n",
    "                                    max_leaf_nodes=10)"
   ]
  },
  {
   "cell_type": "code",
   "execution_count": 6,
   "metadata": {},
   "outputs": [
    {
     "data": {
      "text/html": [
       "<div>\n",
       "<style scoped>\n",
       "    .dataframe tbody tr th:only-of-type {\n",
       "        vertical-align: middle;\n",
       "    }\n",
       "\n",
       "    .dataframe tbody tr th {\n",
       "        vertical-align: top;\n",
       "    }\n",
       "\n",
       "    .dataframe thead th {\n",
       "        text-align: right;\n",
       "    }\n",
       "</style>\n",
       "<table border=\"1\" class=\"dataframe\">\n",
       "  <thead>\n",
       "    <tr style=\"text-align: right;\">\n",
       "      <th></th>\n",
       "      <th>obj</th>\n",
       "      <th>ref_hash</th>\n",
       "    </tr>\n",
       "  </thead>\n",
       "  <tbody>\n",
       "    <tr>\n",
       "      <th>0</th>\n",
       "      <td>167703.333911</td>\n",
       "      <td>69039685746313</td>\n",
       "    </tr>\n",
       "    <tr>\n",
       "      <th>1</th>\n",
       "      <td>147247.796002</td>\n",
       "      <td>345999128501141</td>\n",
       "    </tr>\n",
       "    <tr>\n",
       "      <th>2</th>\n",
       "      <td>34166.231155</td>\n",
       "      <td>360710529886978</td>\n",
       "    </tr>\n",
       "    <tr>\n",
       "      <th>3</th>\n",
       "      <td>172655.142455</td>\n",
       "      <td>365882020742330</td>\n",
       "    </tr>\n",
       "    <tr>\n",
       "      <th>4</th>\n",
       "      <td>87965.939068</td>\n",
       "      <td>416301579449694</td>\n",
       "    </tr>\n",
       "  </tbody>\n",
       "</table>\n",
       "</div>"
      ],
      "text/plain": [
       "             obj         ref_hash\n",
       "0  167703.333911   69039685746313\n",
       "1  147247.796002  345999128501141\n",
       "2   34166.231155  360710529886978\n",
       "3  172655.142455  365882020742330\n",
       "4   87965.939068  416301579449694"
      ]
     },
     "execution_count": 6,
     "metadata": {},
     "output_type": "execute_result"
    }
   ],
   "source": [
    "predecir = pd.read_csv('predecir_st_2426.csv')  \n",
    "for df in archivos_st:\n",
    "    X,y = df.drop(['ref_hash','segundos'],axis=1),df['segundos']\n",
    "    grd.fit(X,y)\n",
    "preds = grd.predict(predecir.drop(['ref_hash','segundos'],axis=1))\n",
    "pred_st = pd.DataFrame(preds)\n",
    "pred_st.columns = ['objetivo']\n",
    "pred_st = pd.DataFrame({'ref_hash': predecir['ref_hash'],\n",
    "                           'obj': pred_st['objetivo']})\n",
    "pred_st.head()"
   ]
  },
  {
   "cell_type": "code",
   "execution_count": 7,
   "metadata": {},
   "outputs": [
    {
     "data": {
      "text/html": [
       "<div>\n",
       "<style scoped>\n",
       "    .dataframe tbody tr th:only-of-type {\n",
       "        vertical-align: middle;\n",
       "    }\n",
       "\n",
       "    .dataframe tbody tr th {\n",
       "        vertical-align: top;\n",
       "    }\n",
       "\n",
       "    .dataframe thead th {\n",
       "        text-align: right;\n",
       "    }\n",
       "</style>\n",
       "<table border=\"1\" class=\"dataframe\">\n",
       "  <thead>\n",
       "    <tr style=\"text-align: right;\">\n",
       "      <th></th>\n",
       "      <th>obj</th>\n",
       "      <th>ref_hash</th>\n",
       "    </tr>\n",
       "  </thead>\n",
       "  <tbody>\n",
       "    <tr>\n",
       "      <th>0</th>\n",
       "      <td>245527.238830</td>\n",
       "      <td>41863526108385</td>\n",
       "    </tr>\n",
       "    <tr>\n",
       "      <th>1</th>\n",
       "      <td>243137.783092</td>\n",
       "      <td>69039685746313</td>\n",
       "    </tr>\n",
       "    <tr>\n",
       "      <th>2</th>\n",
       "      <td>256003.326990</td>\n",
       "      <td>90072729247980</td>\n",
       "    </tr>\n",
       "    <tr>\n",
       "      <th>3</th>\n",
       "      <td>247628.257715</td>\n",
       "      <td>161514654074162</td>\n",
       "    </tr>\n",
       "    <tr>\n",
       "      <th>4</th>\n",
       "      <td>248136.183907</td>\n",
       "      <td>168103949904656</td>\n",
       "    </tr>\n",
       "  </tbody>\n",
       "</table>\n",
       "</div>"
      ],
      "text/plain": [
       "             obj         ref_hash\n",
       "0  245527.238830   41863526108385\n",
       "1  243137.783092   69039685746313\n",
       "2  256003.326990   90072729247980\n",
       "3  247628.257715  161514654074162\n",
       "4  248136.183907  168103949904656"
      ]
     },
     "execution_count": 7,
     "metadata": {},
     "output_type": "execute_result"
    }
   ],
   "source": [
    "predecir = pd.read_csv('predecir_sc_2426.csv')\n",
    "for df in archivos_sc:\n",
    "    X,y = df.drop(['ref_hash','segundos'],axis=1),df['segundos']\n",
    "    grd.fit(X,y)\n",
    "preds = grd.predict(predecir.drop(['ref_hash','segundos'],axis=1))\n",
    "pred_sc = pd.DataFrame(preds)\n",
    "pred_sc.columns = ['objetivo']\n",
    "pred_sc = pd.DataFrame({'ref_hash': predecir['ref_hash'],\n",
    "                           'obj': pred_sc['objetivo']})\n",
    "pred_sc.head()"
   ]
  },
  {
   "cell_type": "code",
   "execution_count": 8,
   "metadata": {},
   "outputs": [
    {
     "name": "stdout",
     "output_type": "stream",
     "text": [
      "(4037, 2)\n"
     ]
    },
    {
     "data": {
      "text/html": [
       "<div>\n",
       "<style scoped>\n",
       "    .dataframe tbody tr th:only-of-type {\n",
       "        vertical-align: middle;\n",
       "    }\n",
       "\n",
       "    .dataframe tbody tr th {\n",
       "        vertical-align: top;\n",
       "    }\n",
       "\n",
       "    .dataframe thead th {\n",
       "        text-align: right;\n",
       "    }\n",
       "</style>\n",
       "<table border=\"1\" class=\"dataframe\">\n",
       "  <thead>\n",
       "    <tr style=\"text-align: right;\">\n",
       "      <th></th>\n",
       "      <th>ref_hash</th>\n",
       "      <th>segundos</th>\n",
       "    </tr>\n",
       "  </thead>\n",
       "  <tbody>\n",
       "    <tr>\n",
       "      <th>0</th>\n",
       "      <td>1000169251625791246</td>\n",
       "      <td>0</td>\n",
       "    </tr>\n",
       "    <tr>\n",
       "      <th>1</th>\n",
       "      <td>1000395625957344683</td>\n",
       "      <td>0</td>\n",
       "    </tr>\n",
       "    <tr>\n",
       "      <th>2</th>\n",
       "      <td>1003027494996471685</td>\n",
       "      <td>0</td>\n",
       "    </tr>\n",
       "    <tr>\n",
       "      <th>3</th>\n",
       "      <td>1006670001679961544</td>\n",
       "      <td>0</td>\n",
       "    </tr>\n",
       "    <tr>\n",
       "      <th>4</th>\n",
       "      <td>1007573308966476713</td>\n",
       "      <td>0</td>\n",
       "    </tr>\n",
       "  </tbody>\n",
       "</table>\n",
       "</div>"
      ],
      "text/plain": [
       "              ref_hash  segundos\n",
       "0  1000169251625791246         0\n",
       "1  1000395625957344683         0\n",
       "2  1003027494996471685         0\n",
       "3  1006670001679961544         0\n",
       "4  1007573308966476713         0"
      ]
     },
     "execution_count": 8,
     "metadata": {},
     "output_type": "execute_result"
    }
   ],
   "source": [
    "ids = pd.read_csv('ids.csv')\n",
    "print(ids.shape)\n",
    "ids.head()"
   ]
  },
  {
   "cell_type": "code",
   "execution_count": 9,
   "metadata": {},
   "outputs": [],
   "source": [
    "pred_st['ref_hash'] = pred_st['ref_hash'].astype('str')\n",
    "pred_sc['ref_hash'] = pred_sc['ref_hash'].astype('str')\n",
    "ids['ref_hash'] = ids['ref_hash'].astype('str')"
   ]
  },
  {
   "cell_type": "code",
   "execution_count": 10,
   "metadata": {},
   "outputs": [],
   "source": [
    "pred_st = pred_st[pred_st['ref_hash'].isin(ids['ref_hash'])]\n",
    "pred_sc = pred_sc[pred_sc['ref_hash'].isin(ids['ref_hash'])]"
   ]
  },
  {
   "cell_type": "code",
   "execution_count": 11,
   "metadata": {},
   "outputs": [
    {
     "name": "stdout",
     "output_type": "stream",
     "text": [
      "(4037, 2)\n"
     ]
    },
    {
     "data": {
      "text/html": [
       "<div>\n",
       "<style scoped>\n",
       "    .dataframe tbody tr th:only-of-type {\n",
       "        vertical-align: middle;\n",
       "    }\n",
       "\n",
       "    .dataframe tbody tr th {\n",
       "        vertical-align: top;\n",
       "    }\n",
       "\n",
       "    .dataframe thead th {\n",
       "        text-align: right;\n",
       "    }\n",
       "</style>\n",
       "<table border=\"1\" class=\"dataframe\">\n",
       "  <thead>\n",
       "    <tr style=\"text-align: right;\">\n",
       "      <th></th>\n",
       "      <th>obj</th>\n",
       "      <th>ref_hash</th>\n",
       "    </tr>\n",
       "  </thead>\n",
       "  <tbody>\n",
       "    <tr>\n",
       "      <th>28</th>\n",
       "      <td>87968.565158</td>\n",
       "      <td>1037575899869926_st</td>\n",
       "    </tr>\n",
       "    <tr>\n",
       "      <th>154</th>\n",
       "      <td>60808.778645</td>\n",
       "      <td>4700892528469466_st</td>\n",
       "    </tr>\n",
       "    <tr>\n",
       "      <th>168</th>\n",
       "      <td>152334.568457</td>\n",
       "      <td>4920567832392301_st</td>\n",
       "    </tr>\n",
       "    <tr>\n",
       "      <th>380</th>\n",
       "      <td>177129.193548</td>\n",
       "      <td>11222455493472018_st</td>\n",
       "    </tr>\n",
       "    <tr>\n",
       "      <th>441</th>\n",
       "      <td>103687.617714</td>\n",
       "      <td>12710129175666777_st</td>\n",
       "    </tr>\n",
       "  </tbody>\n",
       "</table>\n",
       "</div>"
      ],
      "text/plain": [
       "               obj              ref_hash\n",
       "28    87968.565158   1037575899869926_st\n",
       "154   60808.778645   4700892528469466_st\n",
       "168  152334.568457   4920567832392301_st\n",
       "380  177129.193548  11222455493472018_st\n",
       "441  103687.617714  12710129175666777_st"
      ]
     },
     "execution_count": 11,
     "metadata": {},
     "output_type": "execute_result"
    }
   ],
   "source": [
    "pred_st['ref_hash'] = pred_st['ref_hash']+'_st'\n",
    "print(pred_st.shape)\n",
    "pred_st.head()"
   ]
  },
  {
   "cell_type": "code",
   "execution_count": 12,
   "metadata": {},
   "outputs": [
    {
     "name": "stdout",
     "output_type": "stream",
     "text": [
      "(4037, 2)\n"
     ]
    },
    {
     "data": {
      "text/html": [
       "<div>\n",
       "<style scoped>\n",
       "    .dataframe tbody tr th:only-of-type {\n",
       "        vertical-align: middle;\n",
       "    }\n",
       "\n",
       "    .dataframe tbody tr th {\n",
       "        vertical-align: top;\n",
       "    }\n",
       "\n",
       "    .dataframe thead th {\n",
       "        text-align: right;\n",
       "    }\n",
       "</style>\n",
       "<table border=\"1\" class=\"dataframe\">\n",
       "  <thead>\n",
       "    <tr style=\"text-align: right;\">\n",
       "      <th></th>\n",
       "      <th>obj</th>\n",
       "      <th>ref_hash</th>\n",
       "    </tr>\n",
       "  </thead>\n",
       "  <tbody>\n",
       "    <tr>\n",
       "      <th>23</th>\n",
       "      <td>253471.685922</td>\n",
       "      <td>1037575899869926_sc</td>\n",
       "    </tr>\n",
       "    <tr>\n",
       "      <th>105</th>\n",
       "      <td>243958.968074</td>\n",
       "      <td>4920567832392301_sc</td>\n",
       "    </tr>\n",
       "    <tr>\n",
       "      <th>176</th>\n",
       "      <td>250926.803273</td>\n",
       "      <td>8624897563799496_sc</td>\n",
       "    </tr>\n",
       "    <tr>\n",
       "      <th>258</th>\n",
       "      <td>255443.091561</td>\n",
       "      <td>12710129175666777_sc</td>\n",
       "    </tr>\n",
       "    <tr>\n",
       "      <th>261</th>\n",
       "      <td>245714.310404</td>\n",
       "      <td>12880076216702587_sc</td>\n",
       "    </tr>\n",
       "  </tbody>\n",
       "</table>\n",
       "</div>"
      ],
      "text/plain": [
       "               obj              ref_hash\n",
       "23   253471.685922   1037575899869926_sc\n",
       "105  243958.968074   4920567832392301_sc\n",
       "176  250926.803273   8624897563799496_sc\n",
       "258  255443.091561  12710129175666777_sc\n",
       "261  245714.310404  12880076216702587_sc"
      ]
     },
     "execution_count": 12,
     "metadata": {},
     "output_type": "execute_result"
    }
   ],
   "source": [
    "pred_sc['ref_hash'] = pred_sc['ref_hash']+'_sc'\n",
    "print(pred_sc.shape)\n",
    "pred_sc.head()"
   ]
  },
  {
   "cell_type": "code",
   "execution_count": 13,
   "metadata": {},
   "outputs": [
    {
     "name": "stdout",
     "output_type": "stream",
     "text": [
      "(8074, 2)\n"
     ]
    },
    {
     "data": {
      "text/html": [
       "<div>\n",
       "<style scoped>\n",
       "    .dataframe tbody tr th:only-of-type {\n",
       "        vertical-align: middle;\n",
       "    }\n",
       "\n",
       "    .dataframe tbody tr th {\n",
       "        vertical-align: top;\n",
       "    }\n",
       "\n",
       "    .dataframe thead th {\n",
       "        text-align: right;\n",
       "    }\n",
       "</style>\n",
       "<table border=\"1\" class=\"dataframe\">\n",
       "  <thead>\n",
       "    <tr style=\"text-align: right;\">\n",
       "      <th></th>\n",
       "      <th>ref_hash</th>\n",
       "      <th>obj</th>\n",
       "    </tr>\n",
       "  </thead>\n",
       "  <tbody>\n",
       "    <tr>\n",
       "      <th>21334</th>\n",
       "      <td>1000169251625791246_sc</td>\n",
       "      <td>249004.255743</td>\n",
       "    </tr>\n",
       "    <tr>\n",
       "      <th>35649</th>\n",
       "      <td>1000169251625791246_st</td>\n",
       "      <td>68278.826574</td>\n",
       "    </tr>\n",
       "    <tr>\n",
       "      <th>247885</th>\n",
       "      <td>1000395625957344683_sc</td>\n",
       "      <td>132626.890807</td>\n",
       "    </tr>\n",
       "    <tr>\n",
       "      <th>35656</th>\n",
       "      <td>1000395625957344683_st</td>\n",
       "      <td>62744.392679</td>\n",
       "    </tr>\n",
       "    <tr>\n",
       "      <th>21393</th>\n",
       "      <td>1003027494996471685_sc</td>\n",
       "      <td>244230.779090</td>\n",
       "    </tr>\n",
       "  </tbody>\n",
       "</table>\n",
       "</div>"
      ],
      "text/plain": [
       "                      ref_hash            obj\n",
       "21334   1000169251625791246_sc  249004.255743\n",
       "35649   1000169251625791246_st   68278.826574\n",
       "247885  1000395625957344683_sc  132626.890807\n",
       "35656   1000395625957344683_st   62744.392679\n",
       "21393   1003027494996471685_sc  244230.779090"
      ]
     },
     "execution_count": 13,
     "metadata": {},
     "output_type": "execute_result"
    }
   ],
   "source": [
    "prediccion = pred_st.append(pred_sc)\n",
    "prediccion = prediccion[['ref_hash','obj']]\n",
    "prediccion = prediccion.sort_values('ref_hash')\n",
    "print(prediccion.shape)\n",
    "prediccion.head()"
   ]
  },
  {
   "cell_type": "code",
   "execution_count": 14,
   "metadata": {},
   "outputs": [],
   "source": [
    "prediccion.to_csv('target_gradient.csv', index=False)"
   ]
  },
  {
   "cell_type": "code",
   "execution_count": null,
   "metadata": {},
   "outputs": [],
   "source": []
  },
  {
   "cell_type": "code",
   "execution_count": null,
   "metadata": {},
   "outputs": [],
   "source": []
  },
  {
   "cell_type": "code",
   "execution_count": null,
   "metadata": {},
   "outputs": [],
   "source": []
  }
 ],
 "metadata": {
  "kernelspec": {
   "display_name": "Python 2",
   "language": "python",
   "name": "python2"
  },
  "language_info": {
   "codemirror_mode": {
    "name": "ipython",
    "version": 2
   },
   "file_extension": ".py",
   "mimetype": "text/x-python",
   "name": "python",
   "nbconvert_exporter": "python",
   "pygments_lexer": "ipython2",
   "version": "2.7.15+"
  }
 },
 "nbformat": 4,
 "nbformat_minor": 2
}
