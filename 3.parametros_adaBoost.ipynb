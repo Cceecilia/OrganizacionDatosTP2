{
 "cells": [
  {
   "cell_type": "code",
   "execution_count": 1,
   "metadata": {},
   "outputs": [],
   "source": [
    "import pandas as pd\n",
    "import numpy as np\n",
    "from sklearn.ensemble import AdaBoostRegressor\n",
    "from sklearn.metrics import mean_squared_error\n",
    "from sklearn.model_selection import train_test_split"
   ]
  },
  {
   "cell_type": "code",
   "execution_count": 2,
   "metadata": {},
   "outputs": [],
   "source": [
    "df1 = pd.read_csv('entrenar2_st_1820.csv')\n",
    "df2 = pd.read_csv('entrenar2_st_1921.csv')\n",
    "df3 = pd.read_csv('entrenar2_st_2022.csv')\n",
    "df4 = pd.read_csv('entrenar2_st_2123.csv')\n",
    "archivos_st = [df1,df2,df3,df4]"
   ]
  },
  {
   "cell_type": "code",
   "execution_count": 3,
   "metadata": {},
   "outputs": [],
   "source": [
    "def buscar_parametros_adaBoost_st(reg):\n",
    "    suma_errores = 0\n",
    "    for df in archivos_st:      \n",
    "        X,y = df.drop(['ref_hash','segundos'],axis=1),df['segundos']\n",
    "        X_train, X_test, y_train, y_test = \\\n",
    "        train_test_split(X, y, test_size=0.2, random_state=150)\n",
    "\n",
    "        reg.fit(X_train,y_train)\n",
    "        preds = reg.predict(X_test)\n",
    "        rmse = np.sqrt(mean_squared_error(y_test, preds))\n",
    "        suma_errores += rmse\n",
    "       \n",
    "    error_promedio = suma_errores / len(archivos_st)\n",
    "    print('RMSE promedio: %f' % (error_promedio))\n",
    "    return (error_promedio)"
   ]
  },
  {
   "cell_type": "code",
   "execution_count": 5,
   "metadata": {},
   "outputs": [
    {
     "name": "stdout",
     "output_type": "stream",
     "text": [
      "n_estimators: 10.000000\n",
      "RMSE promedio: 89000.523624\n",
      "n_estimators: 15.000000\n",
      "RMSE promedio: 89004.909281\n",
      "n_estimators: 30.000000\n",
      "RMSE promedio: 89004.909281\n",
      "Error minimo 89000.523624 con valor 10.000000\n"
     ]
    }
   ],
   "source": [
    "errores = []\n",
    "for v in [10,15,30]:\n",
    "    reg = AdaBoostRegressor(random_state=0, n_estimators=v)\n",
    "    print('n_estimators: %f'% (v))\n",
    "    error = buscar_parametros_adaBoost_st(reg)\n",
    "    errores.append([error,v])\n",
    "error,v = min(errores,key=lambda x: x[0])\n",
    "print('Error minimo %f con valor %f' %(error,v))"
   ]
  },
  {
   "cell_type": "code",
   "execution_count": 6,
   "metadata": {},
   "outputs": [
    {
     "name": "stdout",
     "output_type": "stream",
     "text": [
      "n_estimators: 3.000000\n",
      "RMSE promedio: 88972.652675\n",
      "n_estimators: 5.000000\n",
      "RMSE promedio: 88930.003699\n",
      "n_estimators: 8.000000\n",
      "RMSE promedio: 88951.671796\n",
      "Error minimo 88930.003699 con valor 5.000000\n"
     ]
    }
   ],
   "source": [
    "errores = []\n",
    "for v in [3,5,8]:\n",
    "    reg = AdaBoostRegressor(random_state=0, n_estimators=v)\n",
    "    print('n_estimators: %f'% (v))\n",
    "    error = buscar_parametros_adaBoost_st(reg)\n",
    "    errores.append([error,v])\n",
    "error,v = min(errores,key=lambda x: x[0])\n",
    "print('Error minimo %f con valor %f' %(error,v))"
   ]
  },
  {
   "cell_type": "code",
   "execution_count": 8,
   "metadata": {},
   "outputs": [
    {
     "name": "stdout",
     "output_type": "stream",
     "text": [
      "random_state: 10.000000\n",
      "RMSE promedio: 88828.705910\n",
      "random_state: 50.000000\n",
      "RMSE promedio: 88811.474493\n",
      "random_state: 100.000000\n",
      "RMSE promedio: 88993.317725\n",
      "random_state: 150.000000\n",
      "RMSE promedio: 88918.796848\n",
      "Error minimo 88811.474493 con valor 50.000000\n"
     ]
    }
   ],
   "source": [
    "errores = []\n",
    "for v in [10,50,100,150]:\n",
    "    reg = AdaBoostRegressor(random_state=v, n_estimators=5)\n",
    "    print('random_state: %f'% (v))\n",
    "    error = buscar_parametros_adaBoost_st(reg)\n",
    "    errores.append([error,v])\n",
    "error,v = min(errores,key=lambda x: x[0])\n",
    "print('Error minimo %f con valor %f' %(error,v))"
   ]
  },
  {
   "cell_type": "code",
   "execution_count": null,
   "metadata": {},
   "outputs": [
    {
     "name": "stdout",
     "output_type": "stream",
     "text": [
      "learning_rate: 0.100000\n",
      "RMSE promedio: 89258.407326\n",
      "learning_rate: 0.200000\n",
      "RMSE promedio: 89096.193215\n",
      "learning_rate: 0.300000\n",
      "RMSE promedio: 88920.200150\n",
      "learning_rate: 0.400000\n"
     ]
    }
   ],
   "source": [
    "errores = []\n",
    "for v in [0.1,0.2,0.3,0.4,0.5]:\n",
    "    reg = AdaBoostRegressor(random_state=10, n_estimators=5, learning_rate=v)\n",
    "    print('learning_rate: %f'% (v))\n",
    "    error = buscar_parametros_adaBoost_st(reg)\n",
    "    errores.append([error,v])\n",
    "error,v = min(errores,key=lambda x: x[0])\n",
    "print('Error minimo %f con valor %f' %(error,v))"
   ]
  },
  {
   "cell_type": "code",
   "execution_count": 4,
   "metadata": {},
   "outputs": [
    {
     "name": "stdout",
     "output_type": "stream",
     "text": [
      "loss: linear\n",
      "RMSE promedio: 89096.193215\n",
      "loss: square\n",
      "RMSE promedio: 88880.190219\n",
      "loss: exponential\n",
      "RMSE promedio: 88971.983669\n",
      "Error minimo 88880.190219 con valor square\n"
     ]
    }
   ],
   "source": [
    "errores = []\n",
    "for v in ['linear','square','exponential']:\n",
    "    reg = AdaBoostRegressor(random_state=10, n_estimators=5, learning_rate=0.2,\n",
    "                            loss=v)\n",
    "    print('loss: %s'% (v))\n",
    "    error = buscar_parametros_adaBoost_st(reg)\n",
    "    errores.append([error,v])\n",
    "error,v = min(errores,key=lambda x: x[0])\n",
    "print('Error minimo %f con valor %s' %(error,v))"
   ]
  },
  {
   "cell_type": "code",
   "execution_count": 7,
   "metadata": {},
   "outputs": [
    {
     "name": "stdout",
     "output_type": "stream",
     "text": [
      "RMSE promedio: 86696.842669\n"
     ]
    },
    {
     "data": {
      "text/plain": [
       "86696.84266928528"
      ]
     },
     "execution_count": 7,
     "metadata": {},
     "output_type": "execute_result"
    }
   ],
   "source": [
    "import xgboost as xgb\n",
    "xg_reg = xgb.XGBRegressor(objective ='reg:linear', \n",
    "        colsample_bytree = 1, learning_rate = 0.5,\n",
    "        max_depth = 5, alpha = 10, n_estimators = 30)\n",
    "reg = AdaBoostRegressor(base_estimator=xg_reg, random_state=10, n_estimators=5,\n",
    "                        learning_rate=0.2, loss='square')\n",
    "buscar_parametros_adaBoost_st(reg)"
   ]
  },
  {
   "cell_type": "code",
   "execution_count": 3,
   "metadata": {},
   "outputs": [],
   "source": [
    "df5 = pd.read_csv('entrenar_sc_1820.csv')\n",
    "df6 = pd.read_csv('entrenar_sc_1921.csv')\n",
    "df7 = pd.read_csv('entrenar_sc_2022.csv')\n",
    "df8 = pd.read_csv('entrenar_sc_2123.csv')\n",
    "archivos_sc = [df5,df6,df7,df8]"
   ]
  },
  {
   "cell_type": "code",
   "execution_count": 8,
   "metadata": {},
   "outputs": [],
   "source": [
    "def estimar_error_adaBoost(reg,archivos):\n",
    "    suma_errores = 0\n",
    "    for df in archivos:      \n",
    "        X,y = df.drop(['ref_hash','segundos'],axis=1),df['segundos']\n",
    "        X_train, X_test, y_train, y_test = \\\n",
    "        train_test_split(X, y, test_size=0.2, random_state=150)\n",
    "\n",
    "        reg.fit(X_train,y_train)\n",
    "        preds = reg.predict(X_test)\n",
    "        rmse = np.sqrt(mean_squared_error(y_test, preds))\n",
    "        suma_errores += rmse\n",
    "       \n",
    "    error_promedio = suma_errores / len(archivos)\n",
    "    print('RMSE promedio: %f' % (error_promedio))\n",
    "    return (error_promedio)"
   ]
  },
  {
   "cell_type": "code",
   "execution_count": 9,
   "metadata": {},
   "outputs": [
    {
     "name": "stdout",
     "output_type": "stream",
     "text": [
      "RMSE promedio: 54403.097144\n"
     ]
    },
    {
     "data": {
      "text/plain": [
       "54403.0971439499"
      ]
     },
     "execution_count": 9,
     "metadata": {},
     "output_type": "execute_result"
    }
   ],
   "source": [
    "import xgboost as xgb\n",
    "xg_reg = xgb.XGBRegressor(objective ='reg:linear', \n",
    "        colsample_bytree = 1, learning_rate = 0.5,\n",
    "        max_depth = 5, alpha = 10, n_estimators = 30)\n",
    "reg = AdaBoostRegressor(base_estimator=xg_reg, random_state=10, n_estimators=5,\n",
    "                        learning_rate=0.2, loss='square')\n",
    "estimar_error_adaBoost(reg,archivos_sc)"
   ]
  },
  {
   "cell_type": "code",
   "execution_count": null,
   "metadata": {},
   "outputs": [],
   "source": []
  }
 ],
 "metadata": {
  "kernelspec": {
   "display_name": "Python 2",
   "language": "python",
   "name": "python2"
  },
  "language_info": {
   "codemirror_mode": {
    "name": "ipython",
    "version": 2
   },
   "file_extension": ".py",
   "mimetype": "text/x-python",
   "name": "python",
   "nbconvert_exporter": "python",
   "pygments_lexer": "ipython2",
   "version": "2.7.15+"
  }
 },
 "nbformat": 4,
 "nbformat_minor": 2
}
